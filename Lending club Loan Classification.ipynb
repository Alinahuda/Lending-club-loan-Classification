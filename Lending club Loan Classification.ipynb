{
 "cells": [
  {
   "cell_type": "markdown",
   "metadata": {},
   "source": [
    "## Loading the data and other imports"
   ]
  },
  {
   "cell_type": "code",
   "execution_count": 5,
   "metadata": {},
   "outputs": [],
   "source": [
    "import pandas as pd\n",
    "import numpy as np\n",
    "import matplotlib.pyplot as plt\n",
    "import seaborn as sns\n",
    "\n",
    "%matplotlib inline\n",
    "\n",
    "\n"
   ]
  },
  {
   "cell_type": "code",
   "execution_count": 49,
   "metadata": {},
   "outputs": [],
   "source": [
    "df = pd.read_csv('../DATA/lending_club_loan_two.csv')"
   ]
  },
  {
   "cell_type": "code",
   "execution_count": 50,
   "metadata": {},
   "outputs": [
    {
     "name": "stdout",
     "output_type": "stream",
     "text": [
      "<class 'pandas.core.frame.DataFrame'>\n",
      "RangeIndex: 396030 entries, 0 to 396029\n",
      "Data columns (total 27 columns):\n",
      " #   Column                Non-Null Count   Dtype  \n",
      "---  ------                --------------   -----  \n",
      " 0   loan_amnt             396030 non-null  float64\n",
      " 1   term                  396030 non-null  object \n",
      " 2   int_rate              396030 non-null  float64\n",
      " 3   installment           396030 non-null  float64\n",
      " 4   grade                 396030 non-null  object \n",
      " 5   sub_grade             396030 non-null  object \n",
      " 6   emp_title             373103 non-null  object \n",
      " 7   emp_length            377729 non-null  object \n",
      " 8   home_ownership        396030 non-null  object \n",
      " 9   annual_inc            396030 non-null  float64\n",
      " 10  verification_status   396030 non-null  object \n",
      " 11  issue_d               396030 non-null  object \n",
      " 12  loan_status           396030 non-null  object \n",
      " 13  purpose               396030 non-null  object \n",
      " 14  title                 394275 non-null  object \n",
      " 15  dti                   396030 non-null  float64\n",
      " 16  earliest_cr_line      396030 non-null  object \n",
      " 17  open_acc              396030 non-null  float64\n",
      " 18  pub_rec               396030 non-null  float64\n",
      " 19  revol_bal             396030 non-null  float64\n",
      " 20  revol_util            395754 non-null  float64\n",
      " 21  total_acc             396030 non-null  float64\n",
      " 22  initial_list_status   396030 non-null  object \n",
      " 23  application_type      396030 non-null  object \n",
      " 24  mort_acc              358235 non-null  float64\n",
      " 25  pub_rec_bankruptcies  395495 non-null  float64\n",
      " 26  address               396030 non-null  object \n",
      "dtypes: float64(12), object(15)\n",
      "memory usage: 81.6+ MB\n"
     ]
    }
   ],
   "source": [
    "df.info()"
   ]
  },
  {
   "cell_type": "markdown",
   "metadata": {},
   "source": [
    "**TASK: Since we will be attempting to predict loan_status, create a countplot as shown below.**"
   ]
  },
  {
   "cell_type": "code",
   "execution_count": 8,
   "metadata": {},
   "outputs": [
    {
     "data": {
      "text/plain": [
       "Fully Paid     318357\n",
       "Charged Off     77673\n",
       "Name: loan_status, dtype: int64"
      ]
     },
     "execution_count": 8,
     "metadata": {},
     "output_type": "execute_result"
    }
   ],
   "source": [
    "# CODE HERE\n",
    "#count of whether loan was paid or not\n",
    "df['loan_status'].value_counts()"
   ]
  },
  {
   "cell_type": "markdown",
   "metadata": {},
   "source": [
    "# Exploratory Data Analysis"
   ]
  },
  {
   "cell_type": "code",
   "execution_count": 9,
   "metadata": {},
   "outputs": [
    {
     "data": {
      "text/plain": [
       "<matplotlib.axes._subplots.AxesSubplot at 0x1dfc69fca20>"
      ]
     },
     "execution_count": 9,
     "metadata": {},
     "output_type": "execute_result"
    },
    {
     "data": {
      "image/png": "[encoded data removed]",
      "text/plain": [
       "<Figure size 432x288 with 1 Axes>"
      ]
     },
     "metadata": {
      "needs_background": "light"
     },
     "output_type": "display_data"
    }
   ],
   "source": [
    "#count of paid and charged off loan . seems likes most of the loans have been paid off. few are charged off\n",
    "sns.countplot(df['loan_status'])"
   ]
  },
  {
   "cell_type": "markdown",
   "metadata": {},
   "source": [
    "Create a histogram of the loan_amnt column"
   ]
  },
  {
   "cell_type": "code",
   "execution_count": 10,
   "metadata": {},
   "outputs": [
    {
     "data": {
      "text/plain": [
       "<matplotlib.axes._subplots.AxesSubplot at 0x1dfc6d70a20>"
      ]
     },
     "execution_count": 10,
     "metadata": {},
     "output_type": "execute_result"
    },
    {
     "data": {
      "image/png": "[encoded data removed]",
      "text/plain": [
       "<Figure size 1080x288 with 1 Axes>"
      ]
     },
     "metadata": {
      "needs_background": "light"
     },
     "output_type": "display_data"
    }
   ],
   "source": [
    "# CODE HERE\n",
    "plt.figure(figsize=(15,4))\n",
    "sns.distplot(df['loan_amnt'],bins=50,kde=False,)"
   ]
  },
  {
   "cell_type": "markdown",
   "metadata": {},
   "source": [
    "explore correlation between the continuous feature variables"
   ]
  },
  {
   "cell_type": "code",
   "execution_count": 11,
   "metadata": {},
   "outputs": [
    {
     "data": {
      "text/html": [
       "<div>\n",
       "<style scoped>\n",
       "    .dataframe tbody tr th:only-of-type {\n",
       "        vertical-align: middle;\n",
       "    }\n",
       "\n",
       "    .dataframe tbody tr th {\n",
       "        vertical-align: top;\n",
       "    }\n",
       "\n",
       "    .dataframe thead th {\n",
       "        text-align: right;\n",
       "    }\n",
       "</style>\n",
       "<table border=\"1\" class=\"dataframe\">\n",
       "  <thead>\n",
       "    <tr style=\"text-align: right;\">\n",
       "      <th></th>\n",
       "      <th>loan_amnt</th>\n",
       "      <th>int_rate</th>\n",
       "      <th>installment</th>\n",
       "      <th>annual_inc</th>\n",
       "      <th>dti</th>\n",
       "      <th>open_acc</th>\n",
       "      <th>pub_rec</th>\n",
       "      <th>revol_bal</th>\n",
       "      <th>revol_util</th>\n",
       "      <th>total_acc</th>\n",
       "      <th>mort_acc</th>\n",
       "      <th>pub_rec_bankruptcies</th>\n",
       "    </tr>\n",
       "  </thead>\n",
       "  <tbody>\n",
       "    <tr>\n",
       "      <th>loan_amnt</th>\n",
       "      <td>1.000000</td>\n",
       "      <td>0.168921</td>\n",
       "      <td>0.953929</td>\n",
       "      <td>0.336887</td>\n",
       "      <td>0.016636</td>\n",
       "      <td>0.198556</td>\n",
       "      <td>-0.077779</td>\n",
       "      <td>0.328320</td>\n",
       "      <td>0.099911</td>\n",
       "      <td>0.223886</td>\n",
       "      <td>0.222315</td>\n",
       "      <td>-0.106539</td>\n",
       "    </tr>\n",
       "    <tr>\n",
       "      <th>int_rate</th>\n",
       "      <td>0.168921</td>\n",
       "      <td>1.000000</td>\n",
       "      <td>0.162758</td>\n",
       "      <td>-0.056771</td>\n",
       "      <td>0.079038</td>\n",
       "      <td>0.011649</td>\n",
       "      <td>0.060986</td>\n",
       "      <td>-0.011280</td>\n",
       "      <td>0.293659</td>\n",
       "      <td>-0.036404</td>\n",
       "      <td>-0.082583</td>\n",
       "      <td>0.057450</td>\n",
       "    </tr>\n",
       "    <tr>\n",
       "      <th>installment</th>\n",
       "      <td>0.953929</td>\n",
       "      <td>0.162758</td>\n",
       "      <td>1.000000</td>\n",
       "      <td>0.330381</td>\n",
       "      <td>0.015786</td>\n",
       "      <td>0.188973</td>\n",
       "      <td>-0.067892</td>\n",
       "      <td>0.316455</td>\n",
       "      <td>0.123915</td>\n",
       "      <td>0.202430</td>\n",
       "      <td>0.193694</td>\n",
       "      <td>-0.098628</td>\n",
       "    </tr>\n",
       "    <tr>\n",
       "      <th>annual_inc</th>\n",
       "      <td>0.336887</td>\n",
       "      <td>-0.056771</td>\n",
       "      <td>0.330381</td>\n",
       "      <td>1.000000</td>\n",
       "      <td>-0.081685</td>\n",
       "      <td>0.136150</td>\n",
       "      <td>-0.013720</td>\n",
       "      <td>0.299773</td>\n",
       "      <td>0.027871</td>\n",
       "      <td>0.193023</td>\n",
       "      <td>0.236320</td>\n",
       "      <td>-0.050162</td>\n",
       "    </tr>\n",
       "    <tr>\n",
       "      <th>dti</th>\n",
       "      <td>0.016636</td>\n",
       "      <td>0.079038</td>\n",
       "      <td>0.015786</td>\n",
       "      <td>-0.081685</td>\n",
       "      <td>1.000000</td>\n",
       "      <td>0.136181</td>\n",
       "      <td>-0.017639</td>\n",
       "      <td>0.063571</td>\n",
       "      <td>0.088375</td>\n",
       "      <td>0.102128</td>\n",
       "      <td>-0.025439</td>\n",
       "      <td>-0.014558</td>\n",
       "    </tr>\n",
       "    <tr>\n",
       "      <th>open_acc</th>\n",
       "      <td>0.198556</td>\n",
       "      <td>0.011649</td>\n",
       "      <td>0.188973</td>\n",
       "      <td>0.136150</td>\n",
       "      <td>0.136181</td>\n",
       "      <td>1.000000</td>\n",
       "      <td>-0.018392</td>\n",
       "      <td>0.221192</td>\n",
       "      <td>-0.131420</td>\n",
       "      <td>0.680728</td>\n",
       "      <td>0.109205</td>\n",
       "      <td>-0.027732</td>\n",
       "    </tr>\n",
       "    <tr>\n",
       "      <th>pub_rec</th>\n",
       "      <td>-0.077779</td>\n",
       "      <td>0.060986</td>\n",
       "      <td>-0.067892</td>\n",
       "      <td>-0.013720</td>\n",
       "      <td>-0.017639</td>\n",
       "      <td>-0.018392</td>\n",
       "      <td>1.000000</td>\n",
       "      <td>-0.101664</td>\n",
       "      <td>-0.075910</td>\n",
       "      <td>0.019723</td>\n",
       "      <td>0.011552</td>\n",
       "      <td>0.699408</td>\n",
       "    </tr>\n",
       "    <tr>\n",
       "      <th>revol_bal</th>\n",
       "      <td>0.328320</td>\n",
       "      <td>-0.011280</td>\n",
       "      <td>0.316455</td>\n",
       "      <td>0.299773</td>\n",
       "      <td>0.063571</td>\n",
       "      <td>0.221192</td>\n",
       "      <td>-0.101664</td>\n",
       "      <td>1.000000</td>\n",
       "      <td>0.226346</td>\n",
       "      <td>0.191616</td>\n",
       "      <td>0.194925</td>\n",
       "      <td>-0.124532</td>\n",
       "    </tr>\n",
       "    <tr>\n",
       "      <th>revol_util</th>\n",
       "      <td>0.099911</td>\n",
       "      <td>0.293659</td>\n",
       "      <td>0.123915</td>\n",
       "      <td>0.027871</td>\n",
       "      <td>0.088375</td>\n",
       "      <td>-0.131420</td>\n",
       "      <td>-0.075910</td>\n",
       "      <td>0.226346</td>\n",
       "      <td>1.000000</td>\n",
       "      <td>-0.104273</td>\n",
       "      <td>0.007514</td>\n",
       "      <td>-0.086751</td>\n",
       "    </tr>\n",
       "    <tr>\n",
       "      <th>total_acc</th>\n",
       "      <td>0.223886</td>\n",
       "      <td>-0.036404</td>\n",
       "      <td>0.202430</td>\n",
       "      <td>0.193023</td>\n",
       "      <td>0.102128</td>\n",
       "      <td>0.680728</td>\n",
       "      <td>0.019723</td>\n",
       "      <td>0.191616</td>\n",
       "      <td>-0.104273</td>\n",
       "      <td>1.000000</td>\n",
       "      <td>0.381072</td>\n",
       "      <td>0.042035</td>\n",
       "    </tr>\n",
       "    <tr>\n",
       "      <th>mort_acc</th>\n",
       "      <td>0.222315</td>\n",
       "      <td>-0.082583</td>\n",
       "      <td>0.193694</td>\n",
       "      <td>0.236320</td>\n",
       "      <td>-0.025439</td>\n",
       "      <td>0.109205</td>\n",
       "      <td>0.011552</td>\n",
       "      <td>0.194925</td>\n",
       "      <td>0.007514</td>\n",
       "      <td>0.381072</td>\n",
       "      <td>1.000000</td>\n",
       "      <td>0.027239</td>\n",
       "    </tr>\n",
       "    <tr>\n",
       "      <th>pub_rec_bankruptcies</th>\n",
       "      <td>-0.106539</td>\n",
       "      <td>0.057450</td>\n",
       "      <td>-0.098628</td>\n",
       "      <td>-0.050162</td>\n",
       "      <td>-0.014558</td>\n",
       "      <td>-0.027732</td>\n",
       "      <td>0.699408</td>\n",
       "      <td>-0.124532</td>\n",
       "      <td>-0.086751</td>\n",
       "      <td>0.042035</td>\n",
       "      <td>0.027239</td>\n",
       "      <td>1.000000</td>\n",
       "    </tr>\n",
       "  </tbody>\n",
       "</table>\n",
       "</div>"
      ],
      "text/plain": [
       "                      loan_amnt  int_rate  installment  annual_inc       dti  \\\n",
       "loan_amnt              1.000000  0.168921     0.953929    0.336887  0.016636   \n",
       "int_rate               0.168921  1.000000     0.162758   -0.056771  0.079038   \n",
       "installment            0.953929  0.162758     1.000000    0.330381  0.015786   \n",
       "annual_inc             0.336887 -0.056771     0.330381    1.000000 -0.081685   \n",
       "dti                    0.016636  0.079038     0.015786   -0.081685  1.000000   \n",
       "open_acc               0.198556  0.011649     0.188973    0.136150  0.136181   \n",
       "pub_rec               -0.077779  0.060986    -0.067892   -0.013720 -0.017639   \n",
       "revol_bal              0.328320 -0.011280     0.316455    0.299773  0.063571   \n",
       "revol_util             0.099911  0.293659     0.123915    0.027871  0.088375   \n",
       "total_acc              0.223886 -0.036404     0.202430    0.193023  0.102128   \n",
       "mort_acc               0.222315 -0.082583     0.193694    0.236320 -0.025439   \n",
       "pub_rec_bankruptcies  -0.106539  0.057450    -0.098628   -0.050162 -0.014558   \n",
       "\n",
       "                      open_acc   pub_rec  revol_bal  revol_util  total_acc  \\\n",
       "loan_amnt             0.198556 -0.077779   0.328320    0.099911   0.223886   \n",
       "int_rate              0.011649  0.060986  -0.011280    0.293659  -0.036404   \n",
       "installment           0.188973 -0.067892   0.316455    0.123915   0.202430   \n",
       "annual_inc            0.136150 -0.013720   0.299773    0.027871   0.193023   \n",
       "dti                   0.136181 -0.017639   0.063571    0.088375   0.102128   \n",
       "open_acc              1.000000 -0.018392   0.221192   -0.131420   0.680728   \n",
       "pub_rec              -0.018392  1.000000  -0.101664   -0.075910   0.019723   \n",
       "revol_bal             0.221192 -0.101664   1.000000    0.226346   0.191616   \n",
       "revol_util           -0.131420 -0.075910   0.226346    1.000000  -0.104273   \n",
       "total_acc             0.680728  0.019723   0.191616   -0.104273   1.000000   \n",
       "mort_acc              0.109205  0.011552   0.194925    0.007514   0.381072   \n",
       "pub_rec_bankruptcies -0.027732  0.699408  -0.124532   -0.086751   0.042035   \n",
       "\n",
       "                      mort_acc  pub_rec_bankruptcies  \n",
       "loan_amnt             0.222315             -0.106539  \n",
       "int_rate             -0.082583              0.057450  \n",
       "installment           0.193694             -0.098628  \n",
       "annual_inc            0.236320             -0.050162  \n",
       "dti                  -0.025439             -0.014558  \n",
       "open_acc              0.109205             -0.027732  \n",
       "pub_rec               0.011552              0.699408  \n",
       "revol_bal             0.194925             -0.124532  \n",
       "revol_util            0.007514             -0.086751  \n",
       "total_acc             0.381072              0.042035  \n",
       "mort_acc              1.000000              0.027239  \n",
       "pub_rec_bankruptcies  0.027239              1.000000  "
      ]
     },
     "execution_count": 11,
     "metadata": {},
     "output_type": "execute_result"
    }
   ],
   "source": [
    "# CODE HERE\n",
    "df.corr()"
   ]
  },
  {
   "cell_type": "code",
   "execution_count": null,
   "metadata": {},
   "outputs": [],
   "source": []
  },
  {
   "cell_type": "code",
   "execution_count": 12,
   "metadata": {},
   "outputs": [
    {
     "data": {
      "text/plain": [
       "<matplotlib.axes._subplots.AxesSubplot at 0x1dfc6e76630>"
      ]
     },
     "execution_count": 12,
     "metadata": {},
     "output_type": "execute_result"
    },
    {
     "data": {
      "image/png": "[encoded data removed]",
      "text/plain": [
       "<Figure size 720x360 with 2 Axes>"
      ]
     },
     "metadata": {
      "needs_background": "light"
     },
     "output_type": "display_data"
    }
   ],
   "source": [
    "# CODE HERE\n",
    "plt.figure(figsize=(10,5))\n",
    "sns.heatmap(df.corr(),cmap='coolwarm')"
   ]
  },
  {
   "cell_type": "code",
   "execution_count": 25,
   "metadata": {},
   "outputs": [
    {
     "data": {
      "text/plain": [
       "<matplotlib.axes._subplots.AxesSubplot at 0x23083f797b8>"
      ]
     },
     "execution_count": 25,
     "metadata": {},
     "output_type": "execute_result"
    },
    {
     "data": {
      "image/png": "[encoded data removed]",
      "text/plain": [
       "<Figure size 432x288 with 1 Axes>"
      ]
     },
     "metadata": {
      "needs_background": "light"
     },
     "output_type": "display_data"
    }
   ],
   "source": [
    "\n",
    "sns.scatterplot(x='loan_amnt',y='installment',data=df)"
   ]
  },
  {
   "cell_type": "code",
   "execution_count": 13,
   "metadata": {},
   "outputs": [
    {
     "data": {
      "text/plain": [
       "<matplotlib.axes._subplots.AxesSubplot at 0x1dfc6f64860>"
      ]
     },
     "execution_count": 13,
     "metadata": {},
     "output_type": "execute_result"
    },
    {
     "data": {
      "image/png": "[encoded data removed]",
      "text/plain": [
       "<Figure size 432x288 with 1 Axes>"
      ]
     },
     "metadata": {
      "needs_background": "light"
     },
     "output_type": "display_data"
    }
   ],
   "source": [
    "# CODE HERE\n",
    "sns.boxplot(x='loan_status',y='loan_amnt',data=df)"
   ]
  },
  {
   "cell_type": "code",
   "execution_count": 27,
   "metadata": {},
   "outputs": [
    {
     "data": {
      "text/html": [
       "<div>\n",
       "<style scoped>\n",
       "    .dataframe tbody tr th:only-of-type {\n",
       "        vertical-align: middle;\n",
       "    }\n",
       "\n",
       "    .dataframe tbody tr th {\n",
       "        vertical-align: top;\n",
       "    }\n",
       "\n",
       "    .dataframe thead th {\n",
       "        text-align: right;\n",
       "    }\n",
       "</style>\n",
       "<table border=\"1\" class=\"dataframe\">\n",
       "  <thead>\n",
       "    <tr style=\"text-align: right;\">\n",
       "      <th></th>\n",
       "      <th>count</th>\n",
       "      <th>mean</th>\n",
       "      <th>std</th>\n",
       "      <th>min</th>\n",
       "      <th>25%</th>\n",
       "      <th>50%</th>\n",
       "      <th>75%</th>\n",
       "      <th>max</th>\n",
       "    </tr>\n",
       "    <tr>\n",
       "      <th>loan_status</th>\n",
       "      <th></th>\n",
       "      <th></th>\n",
       "      <th></th>\n",
       "      <th></th>\n",
       "      <th></th>\n",
       "      <th></th>\n",
       "      <th></th>\n",
       "      <th></th>\n",
       "    </tr>\n",
       "  </thead>\n",
       "  <tbody>\n",
       "    <tr>\n",
       "      <th>Charged Off</th>\n",
       "      <td>77673.0</td>\n",
       "      <td>15126.300967</td>\n",
       "      <td>8505.090557</td>\n",
       "      <td>1000.0</td>\n",
       "      <td>8525.0</td>\n",
       "      <td>14000.0</td>\n",
       "      <td>20000.0</td>\n",
       "      <td>40000.0</td>\n",
       "    </tr>\n",
       "    <tr>\n",
       "      <th>Fully Paid</th>\n",
       "      <td>318357.0</td>\n",
       "      <td>13866.878771</td>\n",
       "      <td>8302.319699</td>\n",
       "      <td>500.0</td>\n",
       "      <td>7500.0</td>\n",
       "      <td>12000.0</td>\n",
       "      <td>19225.0</td>\n",
       "      <td>40000.0</td>\n",
       "    </tr>\n",
       "  </tbody>\n",
       "</table>\n",
       "</div>"
      ],
      "text/plain": [
       "                count          mean          std     min     25%      50%  \\\n",
       "loan_status                                                                 \n",
       "Charged Off   77673.0  15126.300967  8505.090557  1000.0  8525.0  14000.0   \n",
       "Fully Paid   318357.0  13866.878771  8302.319699   500.0  7500.0  12000.0   \n",
       "\n",
       "                 75%      max  \n",
       "loan_status                    \n",
       "Charged Off  20000.0  40000.0  \n",
       "Fully Paid   19225.0  40000.0  "
      ]
     },
     "execution_count": 27,
     "metadata": {},
     "output_type": "execute_result"
    }
   ],
   "source": [
    "\n",
    "groupby_loan=df['loan_amnt'].groupby(by=df['loan_status'])\n",
    "groupby_loan.describe()"
   ]
  },
  {
   "cell_type": "markdown",
   "metadata": {},
   "source": [
    "Explore the Grade and SubGrade columns that LendingClub attributes to the loans"
   ]
  },
  {
   "cell_type": "code",
   "execution_count": 28,
   "metadata": {},
   "outputs": [
    {
     "data": {
      "text/plain": [
       "array(['A1', 'A2', 'A3', 'A4', 'A5', 'B1', 'B2', 'B3', 'B4', 'B5', 'C1',\n",
       "       'C2', 'C3', 'C4', 'C5', 'D1', 'D2', 'D3', 'D4', 'D5', 'E1', 'E2',\n",
       "       'E3', 'E4', 'E5', 'F1', 'F2', 'F3', 'F4', 'F5', 'G1', 'G2', 'G3',\n",
       "       'G4', 'G5'], dtype=object)"
      ]
     },
     "execution_count": 28,
     "metadata": {},
     "output_type": "execute_result"
    }
   ],
   "source": [
    "# CODE HERE\n",
    "df['grade'].unique()\n",
    "df['sub_grade'].sort_values().unique()"
   ]
  },
  {
   "cell_type": "markdown",
   "metadata": {},
   "source": [
    "**Create a countplot per grade. Set the hue to the loan_status label.**"
   ]
  },
  {
   "cell_type": "code",
   "execution_count": 29,
   "metadata": {},
   "outputs": [
    {
     "data": {
      "text/plain": [
       "<matplotlib.axes._subplots.AxesSubplot at 0x230849817f0>"
      ]
     },
     "execution_count": 29,
     "metadata": {},
     "output_type": "execute_result"
    },
    {
     "data": {
      "image/png": "[encoded data removed]",
      "text/plain": [
       "<Figure size 432x288 with 1 Axes>"
      ]
     },
     "metadata": {
      "needs_background": "light"
     },
     "output_type": "display_data"
    }
   ],
   "source": [
    "# CODE HERE\n",
    "sns.countplot(df['grade'].sort_values(),hue=df['loan_status'])"
   ]
  },
  {
   "cell_type": "code",
   "execution_count": 30,
   "metadata": {},
   "outputs": [
    {
     "data": {
      "text/plain": [
       "<matplotlib.axes._subplots.AxesSubplot at 0x23084b7d9e8>"
      ]
     },
     "execution_count": 30,
     "metadata": {},
     "output_type": "execute_result"
    },
    {
     "data": {
      "image/png": "[encoded data removed]",
      "text/plain": [
       "<Figure size 1080x360 with 1 Axes>"
      ]
     },
     "metadata": {
      "needs_background": "light"
     },
     "output_type": "display_data"
    }
   ],
   "source": [
    "plt.figure(figsize=(15,5))\n",
    "#CODE HERE\n",
    "sns.countplot(df['sub_grade'].sort_values(),hue=df['loan_status'])"
   ]
  },
  {
   "cell_type": "code",
   "execution_count": 31,
   "metadata": {},
   "outputs": [
    {
     "data": {
      "text/plain": [
       "<matplotlib.axes._subplots.AxesSubplot at 0x23084d3a0b8>"
      ]
     },
     "execution_count": 31,
     "metadata": {},
     "output_type": "execute_result"
    },
    {
     "data": {
      "image/png": "[encoded data removed]",
      "text/plain": [
       "<Figure size 864x288 with 1 Axes>"
      ]
     },
     "metadata": {
      "needs_background": "light"
     },
     "output_type": "display_data"
    }
   ],
   "source": [
    "# CODE HERE\n",
    "plt.figure(figsize=(12,4))\n",
    "f_g_subgrade=df[(df['grade']=='G') | (df['grade']=='F')]\n",
    "\n",
    "sns.countplot(f_g_subgrade['sub_grade'].sort_values(),hue=df['loan_status'])\n",
    "\n",
    "    \n"
   ]
  },
  {
   "cell_type": "markdown",
   "metadata": {},
   "source": [
    "**Mapping the loan repaid and loan status**"
   ]
  },
  {
   "cell_type": "code",
   "execution_count": 51,
   "metadata": {},
   "outputs": [],
   "source": [
    "df['loan_repaid']=df['loan_status'].map({'Fully Paid': 1,'Charged Off' : 0})\n"
   ]
  },
  {
   "cell_type": "markdown",
   "metadata": {},
   "source": [
    "**Bar plot showing the correlation of the numeric features to the new loan_repaid column**"
   ]
  },
  {
   "cell_type": "code",
   "execution_count": 34,
   "metadata": {},
   "outputs": [
    {
     "data": {
      "text/plain": [
       "<matplotlib.axes._subplots.AxesSubplot at 0x23084f0a2e8>"
      ]
     },
     "execution_count": 34,
     "metadata": {},
     "output_type": "execute_result"
    },
    {
     "data": {
      "image/png": "[encoded data removed]",
      "text/plain": [
       "<Figure size 1440x288 with 1 Axes>"
      ]
     },
     "metadata": {
      "needs_background": "light"
     },
     "output_type": "display_data"
    }
   ],
   "source": [
    "#CODE HERE\n",
    "corr=df.corr()['loan_repaid'].sort_values().drop('loan_repaid')\n",
    "corr=corr.reset_index()\n",
    "plt.figure(figsize=(20,4))\n",
    "plt.tight_layout\n",
    "sns.barplot(x='index',y='loan_repaid',data=corr)\n"
   ]
  },
  {
   "cell_type": "code",
   "execution_count": 35,
   "metadata": {},
   "outputs": [
    {
     "data": {
      "text/plain": [
       "Index(['loan_amnt', 'term', 'int_rate', 'installment', 'grade', 'sub_grade',\n",
       "       'emp_title', 'emp_length', 'home_ownership', 'annual_inc',\n",
       "       'verification_status', 'issue_d', 'loan_status', 'purpose', 'title',\n",
       "       'dti', 'earliest_cr_line', 'open_acc', 'pub_rec', 'revol_bal',\n",
       "       'revol_util', 'total_acc', 'initial_list_status', 'application_type',\n",
       "       'mort_acc', 'pub_rec_bankruptcies', 'address', 'loan_repaid'],\n",
       "      dtype='object')"
      ]
     },
     "execution_count": 35,
     "metadata": {},
     "output_type": "execute_result"
    }
   ],
   "source": [
    "df.columns"
   ]
  },
  {
   "cell_type": "markdown",
   "metadata": {},
   "source": [
    "---\n",
    "---\n",
    "# Section 2: Data PreProcessing\n",
    "\n",
    " Remove or fill any missing data. Remove unnecessary or repetitive features. Convert categorical string features to dummy variables\n",
    "\n"
   ]
  },
  {
   "cell_type": "code",
   "execution_count": 36,
   "metadata": {},
   "outputs": [
    {
     "data": {
      "text/html": [
       "<div>\n",
       "<style scoped>\n",
       "    .dataframe tbody tr th:only-of-type {\n",
       "        vertical-align: middle;\n",
       "    }\n",
       "\n",
       "    .dataframe tbody tr th {\n",
       "        vertical-align: top;\n",
       "    }\n",
       "\n",
       "    .dataframe thead th {\n",
       "        text-align: right;\n",
       "    }\n",
       "</style>\n",
       "<table border=\"1\" class=\"dataframe\">\n",
       "  <thead>\n",
       "    <tr style=\"text-align: right;\">\n",
       "      <th></th>\n",
       "      <th>loan_amnt</th>\n",
       "      <th>term</th>\n",
       "      <th>int_rate</th>\n",
       "      <th>installment</th>\n",
       "      <th>grade</th>\n",
       "      <th>sub_grade</th>\n",
       "      <th>emp_title</th>\n",
       "      <th>emp_length</th>\n",
       "      <th>home_ownership</th>\n",
       "      <th>annual_inc</th>\n",
       "      <th>...</th>\n",
       "      <th>pub_rec</th>\n",
       "      <th>revol_bal</th>\n",
       "      <th>revol_util</th>\n",
       "      <th>total_acc</th>\n",
       "      <th>initial_list_status</th>\n",
       "      <th>application_type</th>\n",
       "      <th>mort_acc</th>\n",
       "      <th>pub_rec_bankruptcies</th>\n",
       "      <th>address</th>\n",
       "      <th>loan_repaid</th>\n",
       "    </tr>\n",
       "  </thead>\n",
       "  <tbody>\n",
       "    <tr>\n",
       "      <th>0</th>\n",
       "      <td>10000.0</td>\n",
       "      <td>36 months</td>\n",
       "      <td>11.44</td>\n",
       "      <td>329.48</td>\n",
       "      <td>B</td>\n",
       "      <td>B4</td>\n",
       "      <td>Marketing</td>\n",
       "      <td>10+ years</td>\n",
       "      <td>RENT</td>\n",
       "      <td>117000.0</td>\n",
       "      <td>...</td>\n",
       "      <td>0.0</td>\n",
       "      <td>36369.0</td>\n",
       "      <td>41.8</td>\n",
       "      <td>25.0</td>\n",
       "      <td>w</td>\n",
       "      <td>INDIVIDUAL</td>\n",
       "      <td>0.0</td>\n",
       "      <td>0.0</td>\n",
       "      <td>0174 Michelle Gateway\\nMendozaberg, OK 22690</td>\n",
       "      <td>1</td>\n",
       "    </tr>\n",
       "    <tr>\n",
       "      <th>1</th>\n",
       "      <td>8000.0</td>\n",
       "      <td>36 months</td>\n",
       "      <td>11.99</td>\n",
       "      <td>265.68</td>\n",
       "      <td>B</td>\n",
       "      <td>B5</td>\n",
       "      <td>Credit analyst</td>\n",
       "      <td>4 years</td>\n",
       "      <td>MORTGAGE</td>\n",
       "      <td>65000.0</td>\n",
       "      <td>...</td>\n",
       "      <td>0.0</td>\n",
       "      <td>20131.0</td>\n",
       "      <td>53.3</td>\n",
       "      <td>27.0</td>\n",
       "      <td>f</td>\n",
       "      <td>INDIVIDUAL</td>\n",
       "      <td>3.0</td>\n",
       "      <td>0.0</td>\n",
       "      <td>1076 Carney Fort Apt. 347\\nLoganmouth, SD 05113</td>\n",
       "      <td>1</td>\n",
       "    </tr>\n",
       "    <tr>\n",
       "      <th>2</th>\n",
       "      <td>15600.0</td>\n",
       "      <td>36 months</td>\n",
       "      <td>10.49</td>\n",
       "      <td>506.97</td>\n",
       "      <td>B</td>\n",
       "      <td>B3</td>\n",
       "      <td>Statistician</td>\n",
       "      <td>&lt; 1 year</td>\n",
       "      <td>RENT</td>\n",
       "      <td>43057.0</td>\n",
       "      <td>...</td>\n",
       "      <td>0.0</td>\n",
       "      <td>11987.0</td>\n",
       "      <td>92.2</td>\n",
       "      <td>26.0</td>\n",
       "      <td>f</td>\n",
       "      <td>INDIVIDUAL</td>\n",
       "      <td>0.0</td>\n",
       "      <td>0.0</td>\n",
       "      <td>87025 Mark Dale Apt. 269\\nNew Sabrina, WV 05113</td>\n",
       "      <td>1</td>\n",
       "    </tr>\n",
       "    <tr>\n",
       "      <th>3</th>\n",
       "      <td>7200.0</td>\n",
       "      <td>36 months</td>\n",
       "      <td>6.49</td>\n",
       "      <td>220.65</td>\n",
       "      <td>A</td>\n",
       "      <td>A2</td>\n",
       "      <td>Client Advocate</td>\n",
       "      <td>6 years</td>\n",
       "      <td>RENT</td>\n",
       "      <td>54000.0</td>\n",
       "      <td>...</td>\n",
       "      <td>0.0</td>\n",
       "      <td>5472.0</td>\n",
       "      <td>21.5</td>\n",
       "      <td>13.0</td>\n",
       "      <td>f</td>\n",
       "      <td>INDIVIDUAL</td>\n",
       "      <td>0.0</td>\n",
       "      <td>0.0</td>\n",
       "      <td>823 Reid Ford\\nDelacruzside, MA 00813</td>\n",
       "      <td>1</td>\n",
       "    </tr>\n",
       "    <tr>\n",
       "      <th>4</th>\n",
       "      <td>24375.0</td>\n",
       "      <td>60 months</td>\n",
       "      <td>17.27</td>\n",
       "      <td>609.33</td>\n",
       "      <td>C</td>\n",
       "      <td>C5</td>\n",
       "      <td>Destiny Management Inc.</td>\n",
       "      <td>9 years</td>\n",
       "      <td>MORTGAGE</td>\n",
       "      <td>55000.0</td>\n",
       "      <td>...</td>\n",
       "      <td>0.0</td>\n",
       "      <td>24584.0</td>\n",
       "      <td>69.8</td>\n",
       "      <td>43.0</td>\n",
       "      <td>f</td>\n",
       "      <td>INDIVIDUAL</td>\n",
       "      <td>1.0</td>\n",
       "      <td>0.0</td>\n",
       "      <td>679 Luna Roads\\nGreggshire, VA 11650</td>\n",
       "      <td>0</td>\n",
       "    </tr>\n",
       "  </tbody>\n",
       "</table>\n",
       "<p>5 rows × 28 columns</p>\n",
       "</div>"
      ],
      "text/plain": [
       "   loan_amnt        term  int_rate  installment grade sub_grade  \\\n",
       "0    10000.0   36 months     11.44       329.48     B        B4   \n",
       "1     8000.0   36 months     11.99       265.68     B        B5   \n",
       "2    15600.0   36 months     10.49       506.97     B        B3   \n",
       "3     7200.0   36 months      6.49       220.65     A        A2   \n",
       "4    24375.0   60 months     17.27       609.33     C        C5   \n",
       "\n",
       "                 emp_title emp_length home_ownership  annual_inc  ... pub_rec  \\\n",
       "0                Marketing  10+ years           RENT    117000.0  ...     0.0   \n",
       "1          Credit analyst     4 years       MORTGAGE     65000.0  ...     0.0   \n",
       "2             Statistician   < 1 year           RENT     43057.0  ...     0.0   \n",
       "3          Client Advocate    6 years           RENT     54000.0  ...     0.0   \n",
       "4  Destiny Management Inc.    9 years       MORTGAGE     55000.0  ...     0.0   \n",
       "\n",
       "  revol_bal revol_util total_acc initial_list_status  application_type  \\\n",
       "0   36369.0       41.8      25.0                   w        INDIVIDUAL   \n",
       "1   20131.0       53.3      27.0                   f        INDIVIDUAL   \n",
       "2   11987.0       92.2      26.0                   f        INDIVIDUAL   \n",
       "3    5472.0       21.5      13.0                   f        INDIVIDUAL   \n",
       "4   24584.0       69.8      43.0                   f        INDIVIDUAL   \n",
       "\n",
       "  mort_acc  pub_rec_bankruptcies  \\\n",
       "0      0.0                   0.0   \n",
       "1      3.0                   0.0   \n",
       "2      0.0                   0.0   \n",
       "3      0.0                   0.0   \n",
       "4      1.0                   0.0   \n",
       "\n",
       "                                           address  loan_repaid  \n",
       "0     0174 Michelle Gateway\\nMendozaberg, OK 22690            1  \n",
       "1  1076 Carney Fort Apt. 347\\nLoganmouth, SD 05113            1  \n",
       "2  87025 Mark Dale Apt. 269\\nNew Sabrina, WV 05113            1  \n",
       "3            823 Reid Ford\\nDelacruzside, MA 00813            1  \n",
       "4             679 Luna Roads\\nGreggshire, VA 11650            0  \n",
       "\n",
       "[5 rows x 28 columns]"
      ]
     },
     "execution_count": 36,
     "metadata": {},
     "output_type": "execute_result"
    }
   ],
   "source": [
    "df.head()"
   ]
  },
  {
   "cell_type": "markdown",
   "metadata": {},
   "source": [
    "# Missing Data\n"
   ]
  },
  {
   "cell_type": "markdown",
   "metadata": {},
   "source": [
    "**Create a Series that displays the total count of missing values per column**"
   ]
  },
  {
   "cell_type": "code",
   "execution_count": 14,
   "metadata": {},
   "outputs": [
    {
     "data": {
      "text/plain": [
       "loan_amnt                   0\n",
       "term                        0\n",
       "int_rate                    0\n",
       "installment                 0\n",
       "grade                       0\n",
       "sub_grade                   0\n",
       "emp_title               22927\n",
       "emp_length              18301\n",
       "home_ownership              0\n",
       "annual_inc                  0\n",
       "verification_status         0\n",
       "issue_d                     0\n",
       "loan_status                 0\n",
       "purpose                     0\n",
       "title                    1755\n",
       "dti                         0\n",
       "earliest_cr_line            0\n",
       "open_acc                    0\n",
       "pub_rec                     0\n",
       "revol_bal                   0\n",
       "revol_util                276\n",
       "total_acc                   0\n",
       "initial_list_status         0\n",
       "application_type            0\n",
       "mort_acc                37795\n",
       "pub_rec_bankruptcies      535\n",
       "address                     0\n",
       "dtype: int64"
      ]
     },
     "execution_count": 14,
     "metadata": {},
     "output_type": "execute_result"
    }
   ],
   "source": [
    "missing_value=df.isnull().sum()\n",
    "missing_value"
   ]
  },
  {
   "cell_type": "markdown",
   "metadata": {},
   "source": [
    "**Convert this Series to be in term of percentage of the total DataFrame**"
   ]
  },
  {
   "cell_type": "code",
   "execution_count": 39,
   "metadata": {},
   "outputs": [
    {
     "data": {
      "text/plain": [
       "loan_amnt               0.000000\n",
       "term                    0.000000\n",
       "int_rate                0.000000\n",
       "installment             0.000000\n",
       "grade                   0.000000\n",
       "sub_grade               0.000000\n",
       "emp_title               5.789208\n",
       "emp_length              4.621115\n",
       "home_ownership          0.000000\n",
       "annual_inc              0.000000\n",
       "verification_status     0.000000\n",
       "issue_d                 0.000000\n",
       "loan_status             0.000000\n",
       "purpose                 0.000000\n",
       "title                   0.443148\n",
       "dti                     0.000000\n",
       "earliest_cr_line        0.000000\n",
       "open_acc                0.000000\n",
       "pub_rec                 0.000000\n",
       "revol_bal               0.000000\n",
       "revol_util              0.069692\n",
       "total_acc               0.000000\n",
       "initial_list_status     0.000000\n",
       "application_type        0.000000\n",
       "mort_acc                9.543469\n",
       "pub_rec_bankruptcies    0.135091\n",
       "address                 0.000000\n",
       "loan_repaid             0.000000\n",
       "dtype: float64"
      ]
     },
     "execution_count": 39,
     "metadata": {},
     "output_type": "execute_result"
    }
   ],
   "source": [
    "# CODE HERE\n",
    "(df.isnull().sum()/len(df))*100\n"
   ]
  },
  {
   "cell_type": "code",
   "execution_count": 40,
   "metadata": {},
   "outputs": [
    {
     "data": {
      "text/plain": [
       "173105"
      ]
     },
     "execution_count": 40,
     "metadata": {},
     "output_type": "execute_result"
    }
   ],
   "source": [
    "# CODE HERE\n",
    "df['emp_title'].nunique()"
   ]
  },
  {
   "cell_type": "markdown",
   "metadata": {},
   "source": [
    "**Realistically there are too many unique job titles to try to convert this to a dummy variable feature. Let's remove that emp_title column**"
   ]
  },
  {
   "cell_type": "code",
   "execution_count": 53,
   "metadata": {},
   "outputs": [],
   "source": [
    "# CODE HERE\n",
    "df=df.drop('emp_title',axis=1)\n"
   ]
  },
  {
   "cell_type": "code",
   "execution_count": 16,
   "metadata": {},
   "outputs": [
    {
     "data": {
      "text/html": [
       "<div>\n",
       "<style scoped>\n",
       "    .dataframe tbody tr th:only-of-type {\n",
       "        vertical-align: middle;\n",
       "    }\n",
       "\n",
       "    .dataframe tbody tr th {\n",
       "        vertical-align: top;\n",
       "    }\n",
       "\n",
       "    .dataframe thead th {\n",
       "        text-align: right;\n",
       "    }\n",
       "</style>\n",
       "<table border=\"1\" class=\"dataframe\">\n",
       "  <thead>\n",
       "    <tr style=\"text-align: right;\">\n",
       "      <th></th>\n",
       "      <th>loan_amnt</th>\n",
       "      <th>term</th>\n",
       "      <th>int_rate</th>\n",
       "      <th>installment</th>\n",
       "      <th>grade</th>\n",
       "      <th>sub_grade</th>\n",
       "      <th>emp_length</th>\n",
       "      <th>home_ownership</th>\n",
       "      <th>annual_inc</th>\n",
       "      <th>verification_status</th>\n",
       "      <th>...</th>\n",
       "      <th>open_acc</th>\n",
       "      <th>pub_rec</th>\n",
       "      <th>revol_bal</th>\n",
       "      <th>revol_util</th>\n",
       "      <th>total_acc</th>\n",
       "      <th>initial_list_status</th>\n",
       "      <th>application_type</th>\n",
       "      <th>mort_acc</th>\n",
       "      <th>pub_rec_bankruptcies</th>\n",
       "      <th>address</th>\n",
       "    </tr>\n",
       "  </thead>\n",
       "  <tbody>\n",
       "    <tr>\n",
       "      <th>0</th>\n",
       "      <td>10000.0</td>\n",
       "      <td>36 months</td>\n",
       "      <td>11.44</td>\n",
       "      <td>329.48</td>\n",
       "      <td>B</td>\n",
       "      <td>B4</td>\n",
       "      <td>10+ years</td>\n",
       "      <td>RENT</td>\n",
       "      <td>117000.0</td>\n",
       "      <td>Not Verified</td>\n",
       "      <td>...</td>\n",
       "      <td>16.0</td>\n",
       "      <td>0.0</td>\n",
       "      <td>36369.0</td>\n",
       "      <td>41.8</td>\n",
       "      <td>25.0</td>\n",
       "      <td>w</td>\n",
       "      <td>INDIVIDUAL</td>\n",
       "      <td>0.0</td>\n",
       "      <td>0.0</td>\n",
       "      <td>0174 Michelle Gateway\\nMendozaberg, OK 22690</td>\n",
       "    </tr>\n",
       "    <tr>\n",
       "      <th>1</th>\n",
       "      <td>8000.0</td>\n",
       "      <td>36 months</td>\n",
       "      <td>11.99</td>\n",
       "      <td>265.68</td>\n",
       "      <td>B</td>\n",
       "      <td>B5</td>\n",
       "      <td>4 years</td>\n",
       "      <td>MORTGAGE</td>\n",
       "      <td>65000.0</td>\n",
       "      <td>Not Verified</td>\n",
       "      <td>...</td>\n",
       "      <td>17.0</td>\n",
       "      <td>0.0</td>\n",
       "      <td>20131.0</td>\n",
       "      <td>53.3</td>\n",
       "      <td>27.0</td>\n",
       "      <td>f</td>\n",
       "      <td>INDIVIDUAL</td>\n",
       "      <td>3.0</td>\n",
       "      <td>0.0</td>\n",
       "      <td>1076 Carney Fort Apt. 347\\nLoganmouth, SD 05113</td>\n",
       "    </tr>\n",
       "    <tr>\n",
       "      <th>2</th>\n",
       "      <td>15600.0</td>\n",
       "      <td>36 months</td>\n",
       "      <td>10.49</td>\n",
       "      <td>506.97</td>\n",
       "      <td>B</td>\n",
       "      <td>B3</td>\n",
       "      <td>&lt; 1 year</td>\n",
       "      <td>RENT</td>\n",
       "      <td>43057.0</td>\n",
       "      <td>Source Verified</td>\n",
       "      <td>...</td>\n",
       "      <td>13.0</td>\n",
       "      <td>0.0</td>\n",
       "      <td>11987.0</td>\n",
       "      <td>92.2</td>\n",
       "      <td>26.0</td>\n",
       "      <td>f</td>\n",
       "      <td>INDIVIDUAL</td>\n",
       "      <td>0.0</td>\n",
       "      <td>0.0</td>\n",
       "      <td>87025 Mark Dale Apt. 269\\nNew Sabrina, WV 05113</td>\n",
       "    </tr>\n",
       "    <tr>\n",
       "      <th>3</th>\n",
       "      <td>7200.0</td>\n",
       "      <td>36 months</td>\n",
       "      <td>6.49</td>\n",
       "      <td>220.65</td>\n",
       "      <td>A</td>\n",
       "      <td>A2</td>\n",
       "      <td>6 years</td>\n",
       "      <td>RENT</td>\n",
       "      <td>54000.0</td>\n",
       "      <td>Not Verified</td>\n",
       "      <td>...</td>\n",
       "      <td>6.0</td>\n",
       "      <td>0.0</td>\n",
       "      <td>5472.0</td>\n",
       "      <td>21.5</td>\n",
       "      <td>13.0</td>\n",
       "      <td>f</td>\n",
       "      <td>INDIVIDUAL</td>\n",
       "      <td>0.0</td>\n",
       "      <td>0.0</td>\n",
       "      <td>823 Reid Ford\\nDelacruzside, MA 00813</td>\n",
       "    </tr>\n",
       "    <tr>\n",
       "      <th>4</th>\n",
       "      <td>24375.0</td>\n",
       "      <td>60 months</td>\n",
       "      <td>17.27</td>\n",
       "      <td>609.33</td>\n",
       "      <td>C</td>\n",
       "      <td>C5</td>\n",
       "      <td>9 years</td>\n",
       "      <td>MORTGAGE</td>\n",
       "      <td>55000.0</td>\n",
       "      <td>Verified</td>\n",
       "      <td>...</td>\n",
       "      <td>13.0</td>\n",
       "      <td>0.0</td>\n",
       "      <td>24584.0</td>\n",
       "      <td>69.8</td>\n",
       "      <td>43.0</td>\n",
       "      <td>f</td>\n",
       "      <td>INDIVIDUAL</td>\n",
       "      <td>1.0</td>\n",
       "      <td>0.0</td>\n",
       "      <td>679 Luna Roads\\nGreggshire, VA 11650</td>\n",
       "    </tr>\n",
       "  </tbody>\n",
       "</table>\n",
       "<p>5 rows × 26 columns</p>\n",
       "</div>"
      ],
      "text/plain": [
       "   loan_amnt        term  int_rate  installment grade sub_grade emp_length  \\\n",
       "0    10000.0   36 months     11.44       329.48     B        B4  10+ years   \n",
       "1     8000.0   36 months     11.99       265.68     B        B5    4 years   \n",
       "2    15600.0   36 months     10.49       506.97     B        B3   < 1 year   \n",
       "3     7200.0   36 months      6.49       220.65     A        A2    6 years   \n",
       "4    24375.0   60 months     17.27       609.33     C        C5    9 years   \n",
       "\n",
       "  home_ownership  annual_inc verification_status  ... open_acc pub_rec  \\\n",
       "0           RENT    117000.0        Not Verified  ...     16.0     0.0   \n",
       "1       MORTGAGE     65000.0        Not Verified  ...     17.0     0.0   \n",
       "2           RENT     43057.0     Source Verified  ...     13.0     0.0   \n",
       "3           RENT     54000.0        Not Verified  ...      6.0     0.0   \n",
       "4       MORTGAGE     55000.0            Verified  ...     13.0     0.0   \n",
       "\n",
       "  revol_bal revol_util  total_acc initial_list_status  application_type  \\\n",
       "0   36369.0       41.8       25.0                   w        INDIVIDUAL   \n",
       "1   20131.0       53.3       27.0                   f        INDIVIDUAL   \n",
       "2   11987.0       92.2       26.0                   f        INDIVIDUAL   \n",
       "3    5472.0       21.5       13.0                   f        INDIVIDUAL   \n",
       "4   24584.0       69.8       43.0                   f        INDIVIDUAL   \n",
       "\n",
       "   mort_acc  pub_rec_bankruptcies  \\\n",
       "0       0.0                   0.0   \n",
       "1       3.0                   0.0   \n",
       "2       0.0                   0.0   \n",
       "3       0.0                   0.0   \n",
       "4       1.0                   0.0   \n",
       "\n",
       "                                           address  \n",
       "0     0174 Michelle Gateway\\nMendozaberg, OK 22690  \n",
       "1  1076 Carney Fort Apt. 347\\nLoganmouth, SD 05113  \n",
       "2  87025 Mark Dale Apt. 269\\nNew Sabrina, WV 05113  \n",
       "3            823 Reid Ford\\nDelacruzside, MA 00813  \n",
       "4             679 Luna Roads\\nGreggshire, VA 11650  \n",
       "\n",
       "[5 rows x 26 columns]"
      ]
     },
     "execution_count": 16,
     "metadata": {},
     "output_type": "execute_result"
    }
   ],
   "source": [
    "df.head()"
   ]
  },
  {
   "cell_type": "markdown",
   "metadata": {},
   "source": [
    " **Create a count plot of the emp_length feature column**"
   ]
  },
  {
   "cell_type": "code",
   "execution_count": 54,
   "metadata": {},
   "outputs": [],
   "source": [
    "sorted(df['emp_length'].dropna().unique())\n",
    "sort_order = [ '< 1 year',\n",
    "                      '1 year',\n",
    "                     '2 years',\n",
    "                     '3 years',\n",
    "                     '4 years',\n",
    "                     '5 years',\n",
    "                     '6 years',\n",
    "                     '7 years',\n",
    "                     '8 years',\n",
    "                     '9 years',\n",
    "                     '10+ years']\n",
    "#created a sorted list of values to pass in the plot function"
   ]
  },
  {
   "cell_type": "code",
   "execution_count": 55,
   "metadata": {},
   "outputs": [
    {
     "data": {
      "text/plain": [
       "<matplotlib.axes._subplots.AxesSubplot at 0x1dfe810e198>"
      ]
     },
     "execution_count": 55,
     "metadata": {},
     "output_type": "execute_result"
    },
    {
     "data": {
      "image/png": "[encoded data removed]",
      "text/plain": [
       "<Figure size 720x288 with 1 Axes>"
      ]
     },
     "metadata": {
      "needs_background": "light"
     },
     "output_type": "display_data"
    }
   ],
   "source": [
    "# CODE HERE\n",
    "plt.figure(figsize=(10,4))\n",
    "sns.countplot(x='emp_length',data=df,order=sort_order)\n"
   ]
  },
  {
   "cell_type": "markdown",
   "metadata": {},
   "source": [
    " **Plot out the countplot with a hue separating Fully Paid vs Charged Off**"
   ]
  },
  {
   "cell_type": "code",
   "execution_count": 45,
   "metadata": {},
   "outputs": [
    {
     "data": {
      "text/plain": [
       "<matplotlib.axes._subplots.AxesSubplot at 0x23084f8e668>"
      ]
     },
     "execution_count": 45,
     "metadata": {},
     "output_type": "execute_result"
    },
    {
     "data": {
      "image/png": "[encoded data removed]",
      "text/plain": [
       "<Figure size 720x288 with 1 Axes>"
      ]
     },
     "metadata": {
      "needs_background": "light"
     },
     "output_type": "display_data"
    }
   ],
   "source": [
    "# CODE HERE\n",
    "plt.figure(figsize=(10,4))\n",
    "sns.countplot(x='emp_length',hue='loan_status',data=df,order=sort_order)"
   ]
  },
  {
   "cell_type": "markdown",
   "metadata": {},
   "source": [
    "**calculate the percentage of charge offs per category. Essentially informing us what percent of people per employment category didn't pay back their loan**"
   ]
  },
  {
   "cell_type": "code",
   "execution_count": 46,
   "metadata": {},
   "outputs": [],
   "source": [
    "# CODE HERE\n",
    "total_emp=df['emp_length'].value_counts()\n"
   ]
  },
  {
   "cell_type": "code",
   "execution_count": 47,
   "metadata": {},
   "outputs": [
    {
     "data": {
      "text/plain": [
       "emp_length\n",
       "1 year       0.248649\n",
       "10+ years    0.225770\n",
       "2 years      0.239560\n",
       "3 years      0.242593\n",
       "4 years      0.238213\n",
       "5 years      0.237911\n",
       "6 years      0.233341\n",
       "7 years      0.241887\n",
       "8 years      0.249625\n",
       "9 years      0.250735\n",
       "< 1 year     0.260830\n",
       "Name: loan_status, dtype: float64"
      ]
     },
     "execution_count": 47,
     "metadata": {},
     "output_type": "execute_result"
    }
   ],
   "source": [
    "people_co=df[df['loan_status']==\"Charged Off\"].groupby('emp_length').count()['loan_status']\n",
    "people_df=df[df['loan_status']=='Fully Paid'].groupby('emp_length').count()['loan_status']\n",
    "emp_cat=people_co/people_df\n",
    "emp_cat"
   ]
  },
  {
   "cell_type": "markdown",
   "metadata": {},
   "source": [
    "**Charge off rates are extremely similar across all employment lengths. drop the columns**"
   ]
  },
  {
   "cell_type": "code",
   "execution_count": 56,
   "metadata": {},
   "outputs": [],
   "source": [
    "# CODE HERE\n",
    "df=df.drop('emp_length',axis=1)"
   ]
  },
  {
   "cell_type": "markdown",
   "metadata": {},
   "source": [
    "Revisit the DataFrame to see what feature columns still have missing data."
   ]
  },
  {
   "cell_type": "code",
   "execution_count": 57,
   "metadata": {},
   "outputs": [
    {
     "data": {
      "text/plain": [
       "loan_amnt                   0\n",
       "term                        0\n",
       "int_rate                    0\n",
       "installment                 0\n",
       "grade                       0\n",
       "sub_grade                   0\n",
       "home_ownership              0\n",
       "annual_inc                  0\n",
       "verification_status         0\n",
       "issue_d                     0\n",
       "loan_status                 0\n",
       "purpose                     0\n",
       "title                    1755\n",
       "dti                         0\n",
       "earliest_cr_line            0\n",
       "open_acc                    0\n",
       "pub_rec                     0\n",
       "revol_bal                   0\n",
       "revol_util                276\n",
       "total_acc                   0\n",
       "initial_list_status         0\n",
       "application_type            0\n",
       "mort_acc                37795\n",
       "pub_rec_bankruptcies      535\n",
       "address                     0\n",
       "loan_repaid                 0\n",
       "dtype: int64"
      ]
     },
     "execution_count": 57,
     "metadata": {},
     "output_type": "execute_result"
    }
   ],
   "source": [
    "df.isnull().sum()\n"
   ]
  },
  {
   "cell_type": "markdown",
   "metadata": {},
   "source": [
    "Review the title column vs the purpose column"
   ]
  },
  {
   "cell_type": "code",
   "execution_count": 50,
   "metadata": {},
   "outputs": [
    {
     "data": {
      "text/plain": [
       "0                   Vacation\n",
       "1         Debt consolidation\n",
       "2    Credit card refinancing\n",
       "3    Credit card refinancing\n",
       "4      Credit Card Refinance\n",
       "5         Debt consolidation\n",
       "6           Home improvement\n",
       "7       No More Credit Cards\n",
       "8         Debt consolidation\n",
       "9         Debt Consolidation\n",
       "Name: title, dtype: object"
      ]
     },
     "execution_count": 50,
     "metadata": {},
     "output_type": "execute_result"
    }
   ],
   "source": [
    "df['title'].head(10)"
   ]
  },
  {
   "cell_type": "markdown",
   "metadata": {},
   "source": [
    "The title column is simply a string subcategory/description of the purpose column. Drop the columns"
   ]
  },
  {
   "cell_type": "code",
   "execution_count": 58,
   "metadata": {},
   "outputs": [],
   "source": [
    "# CODE HERE\n",
    "df=df.drop('title',axis=1)"
   ]
  },
  {
   "cell_type": "code",
   "execution_count": null,
   "metadata": {},
   "outputs": [],
   "source": [
    "# filling the missing values of mort_acc using mean of total_acc values"
   ]
  },
  {
   "cell_type": "code",
   "execution_count": 21,
   "metadata": {},
   "outputs": [
    {
     "data": {
      "text/plain": [
       "0.0     139777\n",
       "1.0      60416\n",
       "2.0      49948\n",
       "3.0      38049\n",
       "4.0      27887\n",
       "5.0      18194\n",
       "6.0      11069\n",
       "7.0       6052\n",
       "8.0       3121\n",
       "9.0       1656\n",
       "10.0       865\n",
       "11.0       479\n",
       "12.0       264\n",
       "13.0       146\n",
       "14.0       107\n",
       "15.0        61\n",
       "16.0        37\n",
       "17.0        22\n",
       "18.0        18\n",
       "19.0        15\n",
       "20.0        13\n",
       "24.0        10\n",
       "22.0         7\n",
       "21.0         4\n",
       "25.0         4\n",
       "27.0         3\n",
       "23.0         2\n",
       "32.0         2\n",
       "26.0         2\n",
       "31.0         2\n",
       "30.0         1\n",
       "28.0         1\n",
       "34.0         1\n",
       "Name: mort_acc, dtype: int64"
      ]
     },
     "execution_count": 21,
     "metadata": {},
     "output_type": "execute_result"
    }
   ],
   "source": [
    "# CODE HERE\n",
    "df['mort_acc'].value_counts()"
   ]
  },
  {
   "cell_type": "code",
   "execution_count": 60,
   "metadata": {},
   "outputs": [
    {
     "data": {
      "text/plain": [
       "int_rate               -0.082583\n",
       "dti                    -0.025439\n",
       "revol_util              0.007514\n",
       "pub_rec                 0.011552\n",
       "pub_rec_bankruptcies    0.027239\n",
       "loan_repaid             0.073111\n",
       "open_acc                0.109205\n",
       "installment             0.193694\n",
       "revol_bal               0.194925\n",
       "loan_amnt               0.222315\n",
       "annual_inc              0.236320\n",
       "total_acc               0.381072\n",
       "mort_acc                1.000000\n",
       "Name: mort_acc, dtype: float64"
      ]
     },
     "execution_count": 60,
     "metadata": {},
     "output_type": "execute_result"
    }
   ],
   "source": [
    "df.corr()['mort_acc'].sort_values()\n",
    "#correlated with total_Acc"
   ]
  },
  {
   "cell_type": "markdown",
   "metadata": {},
   "source": [
    " the total_acc feature correlates with the mort_acc. try this fillna() approach , group the dataframe by the total_acc and calculate the mean value for the mort_acc per total_acc entry"
   ]
  },
  {
   "cell_type": "code",
   "execution_count": 61,
   "metadata": {},
   "outputs": [
    {
     "data": {
      "text/plain": [
       "total_acc\n",
       "2.0      0.000000\n",
       "3.0      0.052023\n",
       "4.0      0.066743\n",
       "5.0      0.103289\n",
       "6.0      0.151293\n",
       "           ...   \n",
       "124.0    1.000000\n",
       "129.0    1.000000\n",
       "135.0    3.000000\n",
       "150.0    2.000000\n",
       "151.0    0.000000\n",
       "Name: mort_acc, Length: 118, dtype: float64"
      ]
     },
     "execution_count": 61,
     "metadata": {},
     "output_type": "execute_result"
    }
   ],
   "source": [
    "total_acc_mean=df.groupby(by='total_acc').mean()['mort_acc']\n",
    "total_acc_mean"
   ]
  },
  {
   "cell_type": "markdown",
   "metadata": {},
   "source": [
    "fill in the missing mort_acc values based on their total_acc value. If the mort_acc is missing, then we will fill in that missing value with the mean value corresponding to its total_acc value from the Series we created above. \n",
    "\n",
    " "
   ]
  },
  {
   "cell_type": "code",
   "execution_count": 62,
   "metadata": {},
   "outputs": [
    {
     "data": {
      "text/plain": [
       "0.0667433831990794"
      ]
     },
     "execution_count": 62,
     "metadata": {},
     "output_type": "execute_result"
    }
   ],
   "source": [
    "total_acc_mean.iloc[2]"
   ]
  },
  {
   "cell_type": "code",
   "execution_count": 63,
   "metadata": {},
   "outputs": [],
   "source": [
    "# CODE HERE\n",
    "def fill_mort_acc(total_acc,mort_acc):\n",
    "    if np.isnan(mort_acc):\n",
    "        mort_acc=total_acc_mean[total_acc]\n",
    "    else:\n",
    "        mort_acc=mort_acc\n",
    "    return mort_acc"
   ]
  },
  {
   "cell_type": "code",
   "execution_count": 64,
   "metadata": {},
   "outputs": [],
   "source": [
    "df['mort_acc']=df.apply(lambda x: fill_mort_acc(x['total_acc'],x['mort_acc']),axis=1)"
   ]
  },
  {
   "cell_type": "code",
   "execution_count": 67,
   "metadata": {
    "scrolled": true
   },
   "outputs": [
    {
     "data": {
      "text/plain": [
       "loan_amnt               0\n",
       "term                    0\n",
       "int_rate                0\n",
       "installment             0\n",
       "grade                   0\n",
       "sub_grade               0\n",
       "home_ownership          0\n",
       "annual_inc              0\n",
       "verification_status     0\n",
       "issue_d                 0\n",
       "loan_status             0\n",
       "purpose                 0\n",
       "dti                     0\n",
       "earliest_cr_line        0\n",
       "open_acc                0\n",
       "pub_rec                 0\n",
       "revol_bal               0\n",
       "revol_util              0\n",
       "total_acc               0\n",
       "initial_list_status     0\n",
       "application_type        0\n",
       "mort_acc                0\n",
       "pub_rec_bankruptcies    0\n",
       "address                 0\n",
       "loan_repaid             0\n",
       "dtype: int64"
      ]
     },
     "execution_count": 67,
     "metadata": {},
     "output_type": "execute_result"
    }
   ],
   "source": [
    "df.isna().sum()"
   ]
  },
  {
   "cell_type": "markdown",
   "metadata": {},
   "source": [
    "## Categorical Variables and Dummy Variables\n"
   ]
  },
  {
   "cell_type": "code",
   "execution_count": 62,
   "metadata": {},
   "outputs": [
    {
     "data": {
      "text/plain": [
       "Index(['term', 'grade', 'sub_grade', 'home_ownership', 'verification_status',\n",
       "       'issue_d', 'loan_status', 'purpose', 'earliest_cr_line',\n",
       "       'initial_list_status', 'application_type', 'address'],\n",
       "      dtype='object')"
      ]
     },
     "execution_count": 62,
     "metadata": {},
     "output_type": "execute_result"
    }
   ],
   "source": [
    "# CODE HERE\n",
    "df.select_dtypes(include='object').columns"
   ]
  },
  {
   "cell_type": "markdown",
   "metadata": {},
   "source": [
    "\n",
    "\n",
    "### term feature\n",
    "Convert the term feature into either a 36 or 60 integer numeric data type"
   ]
  },
  {
   "cell_type": "code",
   "execution_count": 68,
   "metadata": {},
   "outputs": [],
   "source": [
    "df['term']=df['term'].apply(lambda x:int(x[:3]))"
   ]
  },
  {
   "cell_type": "code",
   "execution_count": 69,
   "metadata": {},
   "outputs": [
    {
     "data": {
      "text/plain": [
       "0         36\n",
       "1         36\n",
       "2         36\n",
       "3         36\n",
       "4         60\n",
       "          ..\n",
       "396025    60\n",
       "396026    36\n",
       "396027    36\n",
       "396028    60\n",
       "396029    36\n",
       "Name: term, Length: 395219, dtype: int64"
      ]
     },
     "execution_count": 69,
     "metadata": {},
     "output_type": "execute_result"
    }
   ],
   "source": [
    "df['term']"
   ]
  },
  {
   "cell_type": "markdown",
   "metadata": {},
   "source": [
    "### grade feature\n",
    "\n",
    " grade is part of sub_grade, so just drop the grade feature"
   ]
  },
  {
   "cell_type": "code",
   "execution_count": 70,
   "metadata": {},
   "outputs": [],
   "source": [
    "# CODE HERE\n",
    "df=df.drop(['grade','sub_grade'],axis=1)"
   ]
  },
  {
   "cell_type": "markdown",
   "metadata": {},
   "source": [
    "### verification_status, application_type,initial_list_status,purpose \n",
    " Convert these columns: ['verification_status', 'application_type','initial_list_status','purpose'] into dummy variables and concatenate them with the original dataframe."
   ]
  },
  {
   "cell_type": "code",
   "execution_count": 71,
   "metadata": {},
   "outputs": [],
   "source": [
    "# CODE HERE\n",
    "dummies = pd.get_dummies(df[['verification_status', 'application_type','initial_list_status','purpose' ]],drop_first=True)\n",
    "df = df.drop(['verification_status', 'application_type','initial_list_status','purpose'],axis=1)\n",
    "df = pd.concat([df,dummies],axis=1)"
   ]
  },
  {
   "cell_type": "markdown",
   "metadata": {},
   "source": [
    "### home_ownership\n"
   ]
  },
  {
   "cell_type": "code",
   "execution_count": 72,
   "metadata": {},
   "outputs": [
    {
     "data": {
      "text/plain": [
       "MORTGAGE    198022\n",
       "RENT        159395\n",
       "OWN          37660\n",
       "OTHER          110\n",
       "NONE            29\n",
       "ANY              3\n",
       "Name: home_ownership, dtype: int64"
      ]
     },
     "execution_count": 72,
     "metadata": {},
     "output_type": "execute_result"
    }
   ],
   "source": [
    "#CODE HERE\n",
    "df['home_ownership'].value_counts()"
   ]
  },
  {
   "cell_type": "markdown",
   "metadata": {},
   "source": [
    "Convert these to dummy variables, but replace  NONE and ANY with OTHER, so that we end up with just 4 categories, MORTGAGE, RENT, OWN, OTHER. Then concatenate them with the original dataframe"
   ]
  },
  {
   "cell_type": "code",
   "execution_count": 73,
   "metadata": {},
   "outputs": [
    {
     "data": {
      "text/plain": [
       "0             RENT\n",
       "1         MORTGAGE\n",
       "2             RENT\n",
       "3             RENT\n",
       "4         MORTGAGE\n",
       "            ...   \n",
       "396025        RENT\n",
       "396026    MORTGAGE\n",
       "396027        RENT\n",
       "396028    MORTGAGE\n",
       "396029        RENT\n",
       "Name: home_ownership, Length: 395219, dtype: object"
      ]
     },
     "execution_count": 73,
     "metadata": {},
     "output_type": "execute_result"
    }
   ],
   "source": [
    "#CODE HERE\n",
    "df['home_ownership']=df['home_ownership'].replace(['NONE','ANY'],'OTHER')\n",
    "\n"
   ]
  },
  {
   "cell_type": "code",
   "execution_count": 74,
   "metadata": {},
   "outputs": [],
   "source": [
    "ownership=pd.get_dummies(df['home_ownership'])\n",
    "df=pd.concat([df.drop('home_ownership',axis=1),ownership],axis=1)"
   ]
  },
  {
   "cell_type": "code",
   "execution_count": 75,
   "metadata": {},
   "outputs": [],
   "source": [
    "#CODE HERE\n",
    "df=df.drop(['address','issue_d','loan_status'],axis=1)\n"
   ]
  },
  {
   "cell_type": "code",
   "execution_count": 77,
   "metadata": {},
   "outputs": [],
   "source": [
    "#CODE HERE\n",
    "df['earliest_cr_line']=df['earliest_cr_line'].apply(lambda x:int(x[4:]))"
   ]
  },
  {
   "cell_type": "code",
   "execution_count": 130,
   "metadata": {},
   "outputs": [
    {
     "name": "stdout",
     "output_type": "stream",
     "text": [
      "<class 'pandas.core.frame.DataFrame'>\n",
      "Int64Index: 395219 entries, 0 to 396029\n",
      "Data columns (total 37 columns):\n",
      " #   Column                               Non-Null Count   Dtype  \n",
      "---  ------                               --------------   -----  \n",
      " 0   loan_amnt                            395219 non-null  float64\n",
      " 1   term                                 395219 non-null  int64  \n",
      " 2   int_rate                             395219 non-null  float64\n",
      " 3   installment                          395219 non-null  float64\n",
      " 4   annual_inc                           395219 non-null  float64\n",
      " 5   dti                                  395219 non-null  float64\n",
      " 6   earliest_cr_line                     395219 non-null  int64  \n",
      " 7   open_acc                             395219 non-null  float64\n",
      " 8   pub_rec                              395219 non-null  float64\n",
      " 9   revol_bal                            395219 non-null  float64\n",
      " 10  revol_util                           395219 non-null  float64\n",
      " 11  total_acc                            395219 non-null  float64\n",
      " 12  mort_acc                             395219 non-null  float64\n",
      " 13  pub_rec_bankruptcies                 395219 non-null  float64\n",
      " 14  loan_repaid                          395219 non-null  int64  \n",
      " 15  verification_status_Source Verified  395219 non-null  uint8  \n",
      " 16  verification_status_Verified         395219 non-null  uint8  \n",
      " 17  application_type_INDIVIDUAL          395219 non-null  uint8  \n",
      " 18  application_type_JOINT               395219 non-null  uint8  \n",
      " 19  initial_list_status_w                395219 non-null  uint8  \n",
      " 20  purpose_credit_card                  395219 non-null  uint8  \n",
      " 21  purpose_debt_consolidation           395219 non-null  uint8  \n",
      " 22  purpose_educational                  395219 non-null  uint8  \n",
      " 23  purpose_home_improvement             395219 non-null  uint8  \n",
      " 24  purpose_house                        395219 non-null  uint8  \n",
      " 25  purpose_major_purchase               395219 non-null  uint8  \n",
      " 26  purpose_medical                      395219 non-null  uint8  \n",
      " 27  purpose_moving                       395219 non-null  uint8  \n",
      " 28  purpose_other                        395219 non-null  uint8  \n",
      " 29  purpose_renewable_energy             395219 non-null  uint8  \n",
      " 30  purpose_small_business               395219 non-null  uint8  \n",
      " 31  purpose_vacation                     395219 non-null  uint8  \n",
      " 32  purpose_wedding                      395219 non-null  uint8  \n",
      " 33  MORTGAGE                             395219 non-null  uint8  \n",
      " 34  OTHER                                395219 non-null  uint8  \n",
      " 35  OWN                                  395219 non-null  uint8  \n",
      " 36  RENT                                 395219 non-null  uint8  \n",
      "dtypes: float64(12), int64(3), uint8(22)\n",
      "memory usage: 56.5 MB\n"
     ]
    }
   ],
   "source": [
    "df.info()\n"
   ]
  },
  {
   "cell_type": "markdown",
   "metadata": {},
   "source": [
    "## Splitting the data into training set , validation test and test set\n"
   ]
  },
  {
   "cell_type": "code",
   "execution_count": 79,
   "metadata": {},
   "outputs": [],
   "source": [
    "# CODE HERE\n",
    "from sklearn.model_selection import train_test_split\n"
   ]
  },
  {
   "cell_type": "code",
   "execution_count": 178,
   "metadata": {},
   "outputs": [],
   "source": [
    "\n",
    "train_df, test_df = train_test_split(df, test_size=0.2)\n",
    "train_df, val_df = train_test_split(train_df, test_size=0.2)\n",
    "\n",
    "# Form np arrays of labels and features.\n",
    "train_labels = np.array(train_df.pop('loan_repaid'))\n",
    "val_labels = np.array(val_df.pop('loan_repaid'))\n",
    "test_labels = np.array(test_df.pop('loan_repaid'))\n",
    "\n",
    "train_features = np.array(train_df)\n",
    "val_features = np.array(val_df)\n",
    "test_features = np.array(test_df)\n"
   ]
  },
  {
   "cell_type": "code",
   "execution_count": 179,
   "metadata": {},
   "outputs": [
    {
     "data": {
      "text/html": [
       "<div>\n",
       "<style scoped>\n",
       "    .dataframe tbody tr th:only-of-type {\n",
       "        vertical-align: middle;\n",
       "    }\n",
       "\n",
       "    .dataframe tbody tr th {\n",
       "        vertical-align: top;\n",
       "    }\n",
       "\n",
       "    .dataframe thead th {\n",
       "        text-align: right;\n",
       "    }\n",
       "</style>\n",
       "<table border=\"1\" class=\"dataframe\">\n",
       "  <thead>\n",
       "    <tr style=\"text-align: right;\">\n",
       "      <th></th>\n",
       "      <th>loan_amnt</th>\n",
       "      <th>term</th>\n",
       "      <th>int_rate</th>\n",
       "      <th>installment</th>\n",
       "      <th>annual_inc</th>\n",
       "      <th>dti</th>\n",
       "      <th>earliest_cr_line</th>\n",
       "      <th>open_acc</th>\n",
       "      <th>pub_rec</th>\n",
       "      <th>revol_bal</th>\n",
       "      <th>...</th>\n",
       "      <th>purpose_moving</th>\n",
       "      <th>purpose_other</th>\n",
       "      <th>purpose_renewable_energy</th>\n",
       "      <th>purpose_small_business</th>\n",
       "      <th>purpose_vacation</th>\n",
       "      <th>purpose_wedding</th>\n",
       "      <th>MORTGAGE</th>\n",
       "      <th>OTHER</th>\n",
       "      <th>OWN</th>\n",
       "      <th>RENT</th>\n",
       "    </tr>\n",
       "  </thead>\n",
       "  <tbody>\n",
       "    <tr>\n",
       "      <th>0</th>\n",
       "      <td>10000.0</td>\n",
       "      <td>36</td>\n",
       "      <td>11.44</td>\n",
       "      <td>329.48</td>\n",
       "      <td>117000.0</td>\n",
       "      <td>26.24</td>\n",
       "      <td>1990</td>\n",
       "      <td>16.0</td>\n",
       "      <td>0.0</td>\n",
       "      <td>36369.0</td>\n",
       "      <td>...</td>\n",
       "      <td>0</td>\n",
       "      <td>0</td>\n",
       "      <td>0</td>\n",
       "      <td>0</td>\n",
       "      <td>1</td>\n",
       "      <td>0</td>\n",
       "      <td>0</td>\n",
       "      <td>0</td>\n",
       "      <td>0</td>\n",
       "      <td>1</td>\n",
       "    </tr>\n",
       "    <tr>\n",
       "      <th>1</th>\n",
       "      <td>8000.0</td>\n",
       "      <td>36</td>\n",
       "      <td>11.99</td>\n",
       "      <td>265.68</td>\n",
       "      <td>65000.0</td>\n",
       "      <td>22.05</td>\n",
       "      <td>2004</td>\n",
       "      <td>17.0</td>\n",
       "      <td>0.0</td>\n",
       "      <td>20131.0</td>\n",
       "      <td>...</td>\n",
       "      <td>0</td>\n",
       "      <td>0</td>\n",
       "      <td>0</td>\n",
       "      <td>0</td>\n",
       "      <td>0</td>\n",
       "      <td>0</td>\n",
       "      <td>1</td>\n",
       "      <td>0</td>\n",
       "      <td>0</td>\n",
       "      <td>0</td>\n",
       "    </tr>\n",
       "    <tr>\n",
       "      <th>2</th>\n",
       "      <td>15600.0</td>\n",
       "      <td>36</td>\n",
       "      <td>10.49</td>\n",
       "      <td>506.97</td>\n",
       "      <td>43057.0</td>\n",
       "      <td>12.79</td>\n",
       "      <td>2007</td>\n",
       "      <td>13.0</td>\n",
       "      <td>0.0</td>\n",
       "      <td>11987.0</td>\n",
       "      <td>...</td>\n",
       "      <td>0</td>\n",
       "      <td>0</td>\n",
       "      <td>0</td>\n",
       "      <td>0</td>\n",
       "      <td>0</td>\n",
       "      <td>0</td>\n",
       "      <td>0</td>\n",
       "      <td>0</td>\n",
       "      <td>0</td>\n",
       "      <td>1</td>\n",
       "    </tr>\n",
       "    <tr>\n",
       "      <th>3</th>\n",
       "      <td>7200.0</td>\n",
       "      <td>36</td>\n",
       "      <td>6.49</td>\n",
       "      <td>220.65</td>\n",
       "      <td>54000.0</td>\n",
       "      <td>2.60</td>\n",
       "      <td>2006</td>\n",
       "      <td>6.0</td>\n",
       "      <td>0.0</td>\n",
       "      <td>5472.0</td>\n",
       "      <td>...</td>\n",
       "      <td>0</td>\n",
       "      <td>0</td>\n",
       "      <td>0</td>\n",
       "      <td>0</td>\n",
       "      <td>0</td>\n",
       "      <td>0</td>\n",
       "      <td>0</td>\n",
       "      <td>0</td>\n",
       "      <td>0</td>\n",
       "      <td>1</td>\n",
       "    </tr>\n",
       "    <tr>\n",
       "      <th>4</th>\n",
       "      <td>24375.0</td>\n",
       "      <td>60</td>\n",
       "      <td>17.27</td>\n",
       "      <td>609.33</td>\n",
       "      <td>55000.0</td>\n",
       "      <td>33.95</td>\n",
       "      <td>1999</td>\n",
       "      <td>13.0</td>\n",
       "      <td>0.0</td>\n",
       "      <td>24584.0</td>\n",
       "      <td>...</td>\n",
       "      <td>0</td>\n",
       "      <td>0</td>\n",
       "      <td>0</td>\n",
       "      <td>0</td>\n",
       "      <td>0</td>\n",
       "      <td>0</td>\n",
       "      <td>1</td>\n",
       "      <td>0</td>\n",
       "      <td>0</td>\n",
       "      <td>0</td>\n",
       "    </tr>\n",
       "  </tbody>\n",
       "</table>\n",
       "<p>5 rows × 37 columns</p>\n",
       "</div>"
      ],
      "text/plain": [
       "   loan_amnt  term  int_rate  installment  annual_inc    dti  \\\n",
       "0    10000.0    36     11.44       329.48    117000.0  26.24   \n",
       "1     8000.0    36     11.99       265.68     65000.0  22.05   \n",
       "2    15600.0    36     10.49       506.97     43057.0  12.79   \n",
       "3     7200.0    36      6.49       220.65     54000.0   2.60   \n",
       "4    24375.0    60     17.27       609.33     55000.0  33.95   \n",
       "\n",
       "   earliest_cr_line  open_acc  pub_rec  revol_bal  ...  purpose_moving  \\\n",
       "0              1990      16.0      0.0    36369.0  ...               0   \n",
       "1              2004      17.0      0.0    20131.0  ...               0   \n",
       "2              2007      13.0      0.0    11987.0  ...               0   \n",
       "3              2006       6.0      0.0     5472.0  ...               0   \n",
       "4              1999      13.0      0.0    24584.0  ...               0   \n",
       "\n",
       "   purpose_other  purpose_renewable_energy  purpose_small_business  \\\n",
       "0              0                         0                       0   \n",
       "1              0                         0                       0   \n",
       "2              0                         0                       0   \n",
       "3              0                         0                       0   \n",
       "4              0                         0                       0   \n",
       "\n",
       "   purpose_vacation  purpose_wedding  MORTGAGE  OTHER  OWN  RENT  \n",
       "0                 1                0         0      0    0     1  \n",
       "1                 0                0         1      0    0     0  \n",
       "2                 0                0         0      0    0     1  \n",
       "3                 0                0         0      0    0     1  \n",
       "4                 0                0         1      0    0     0  \n",
       "\n",
       "[5 rows x 37 columns]"
      ]
     },
     "execution_count": 179,
     "metadata": {},
     "output_type": "execute_result"
    }
   ],
   "source": [
    "df.head()"
   ]
  },
  {
   "cell_type": "code",
   "execution_count": 86,
   "metadata": {},
   "outputs": [],
   "source": [
    "from sklearn.preprocessing import StandardScaler"
   ]
  },
  {
   "cell_type": "code",
   "execution_count": 180,
   "metadata": {},
   "outputs": [
    {
     "name": "stdout",
     "output_type": "stream",
     "text": [
      "Training labels shape: (252940,)\n",
      "Validation labels shape: (63235,)\n",
      "Test labels shape: (79044,)\n",
      "Training features shape: (252940, 36)\n",
      "Validation features shape: (63235, 36)\n",
      "Test features shape: (79044, 36)\n"
     ]
    }
   ],
   "source": [
    "scaler = StandardScaler()\n",
    "train_features = scaler.fit_transform(train_features)\n",
    "\n",
    "val_features = scaler.transform(val_features)\n",
    "test_features = scaler.transform(test_features)\n",
    "\n",
    "train_features = np.clip(train_features, -5, 5)\n",
    "val_features = np.clip(val_features, -5, 5)\n",
    "test_features = np.clip(test_features, -5, 5)\n",
    "\n",
    "\n",
    "print('Training labels shape:', train_labels.shape)\n",
    "print('Validation labels shape:', val_labels.shape)\n",
    "print('Test labels shape:', test_labels.shape)\n",
    "\n",
    "print('Training features shape:', train_features.shape)\n",
    "print('Validation features shape:', val_features.shape)\n",
    "print('Test features shape:', test_features.shape)"
   ]
  },
  {
   "cell_type": "markdown",
   "metadata": {},
   "source": [
    "# Creating the Model\n",
    "\n"
   ]
  },
  {
   "cell_type": "code",
   "execution_count": 89,
   "metadata": {},
   "outputs": [],
   "source": [
    "import tensorflow as tf\n",
    "from tensorflow.keras.models import Sequential\n",
    "from tensorflow.keras.layers import Dense, Activation,Dropout\n",
    "from tensorflow.keras.constraints import max_norm\n",
    "from tensorflow.keras.regularizers import l2\n",
    "import tensorflow.keras.backend as K"
   ]
  },
  {
   "cell_type": "code",
   "execution_count": 183,
   "metadata": {},
   "outputs": [],
   "source": [
    "# Creating a MLP model\n",
    "def get_f1(y_true, y_pred): #taken from old keras source code\n",
    "    true_positives = K.sum(K.round(K.clip(y_true * y_pred, 0, 1)))\n",
    "    possible_positives = K.sum(K.round(K.clip(y_true, 0, 1)))\n",
    "    predicted_positives = K.sum(K.round(K.clip(y_pred, 0, 1)))\n",
    "    precision = true_positives / (predicted_positives + K.epsilon())\n",
    "    recall = true_positives / (possible_positives + K.epsilon())\n",
    "    f1_val = 2*(precision*recall)/(precision+recall+K.epsilon())\n",
    "    return f1_val\n",
    "\n",
    "from tensorflow import keras\n",
    "METRICS = [\n",
    "      get_f1,\n",
    "      keras.metrics.TruePositives(name='tp'),\n",
    "      keras.metrics.FalsePositives(name='fp'),\n",
    "      keras.metrics.TrueNegatives(name='tn'),\n",
    "      keras.metrics.FalseNegatives(name='fn'), \n",
    "      keras.metrics.BinaryAccuracy(name='accuracy'),\n",
    "      keras.metrics.Precision(name='precision'),\n",
    "      keras.metrics.Recall(name='recall'),\n",
    "      keras.metrics.AUC(name='auc'),\n",
    "    \n",
    "      \n",
    "\n",
    "]\n",
    "model = keras.Sequential([\n",
    "      keras.layers.Dense(16, activation='relu',input_shape=(train_features.shape[-1],)),\n",
    "      keras.layers.Dropout(0.5),\n",
    "      keras.layers.Dense(1, activation='sigmoid',bias_initializer='he_normal'),\n",
    "  ])\n",
    "\n",
    "model.compile(\n",
    "      optimizer=keras.optimizers.Adam(lr=1e-3),\n",
    "      loss=keras.losses.BinaryCrossentropy(),\n",
    "      metrics=METRICS)\n",
    "\n",
    "\n",
    "\n"
   ]
  },
  {
   "cell_type": "markdown",
   "metadata": {},
   "source": [
    " Fit the model to the training data for at least 100 epochs. Also add in the validation data for later plotting"
   ]
  },
  {
   "cell_type": "code",
   "execution_count": 184,
   "metadata": {},
   "outputs": [],
   "source": [
    "EPOCHS = 100\n",
    "BATCH_SIZE = 2048\n",
    "\n",
    "early_stopping = tf.keras.callbacks.EarlyStopping(\n",
    "    monitor='val_auc', \n",
    "    verbose=1,\n",
    "    patience=10,\n",
    "    mode='max',\n",
    "    restore_best_weights=True)"
   ]
  },
  {
   "cell_type": "code",
   "execution_count": 187,
   "metadata": {},
   "outputs": [
    {
     "name": "stdout",
     "output_type": "stream",
     "text": [
      "Train on 252940 samples, validate on 63235 samples\n",
      "Epoch 1/100\n",
      "252940/252940 [==============================] - 10s 40us/sample - loss: 1.4201 - get_f1: 0.4253 - tp: 58785.0000 - fp: 8967.0000 - tn: 40618.0000 - fn: 144570.0000 - accuracy: 0.3930 - precision: 0.8676 - recall: 0.2891 - auc: 0.5844 - val_loss: 1.1032 - val_get_f1: 0.5552 - val_tp: 20337.0000 - val_fp: 2219.0000 - val_tn: 10337.0000 - val_fn: 30342.0000 - val_accuracy: 0.4851 - val_precision: 0.9016 - val_recall: 0.4013 - val_auc: 0.6792\n",
      "Epoch 2/100\n",
      "252940/252940 [==============================] - 4s 17us/sample - loss: 1.2361 - get_f1: 0.5704 - tp: 86088.0000 - fp: 12343.0000 - tn: 37242.0000 - fn: 117267.0000 - accuracy: 0.4876 - precision: 0.8746 - recall: 0.4233 - auc: 0.6257 - val_loss: 1.0626 - val_get_f1: 0.6145 - val_tp: 23630.0000 - val_fp: 2574.0000 - val_tn: 9982.0000 - val_fn: 27049.0000 - val_accuracy: 0.5315 - val_precision: 0.9018 - val_recall: 0.4663 - val_auc: 0.6943\n",
      "Epoch 3/100\n",
      "252940/252940 [==============================] - 4s 18us/sample - loss: 1.1860 - get_f1: 0.5935 - tp: 91179.0000 - fp: 12687.0000 - tn: 36898.0000 - fn: 112176.0000 - accuracy: 0.5064 - precision: 0.8779 - recall: 0.4484 - auc: 0.6375 - val_loss: 1.0523 - val_get_f1: 0.6199 - val_tp: 23917.0000 - val_fp: 2545.0000 - val_tn: 10011.0000 - val_fn: 26762.0000 - val_accuracy: 0.5365 - val_precision: 0.9038 - val_recall: 0.4719 - val_auc: 0.699499.0000 - fp: 6321.0000 - tn: 18036.0000 - fn: 55372.0000 - accuracy: 0.5062 - precisio\n",
      "Epoch 4/100\n",
      "252940/252940 [==============================] - 4s 17us/sample - loss: 1.1615 - get_f1: 0.5974 - tp: 91997.0000 - fp: 12557.0000 - tn: 37028.0000 - fn: 111358.0000 - accuracy: 0.5101 - precision: 0.8799 - recall: 0.4524 - auc: 0.6428 - val_loss: 1.0438 - val_get_f1: 0.6382 - val_tp: 25040.0000 - val_fp: 2730.0000 - val_tn: 9826.0000 - val_fn: 25639.0000 - val_accuracy: 0.5514 - val_precision: 0.9017 - val_recall: 0.4941 - val_auc: 0.7019\n",
      "Epoch 5/100\n",
      "252940/252940 [==============================] - 4s 16us/sample - loss: 1.1382 - get_f1: 0.6104 - tp: 95023.0000 - fp: 12861.0000 - tn: 36724.0000 - fn: 108332.0000 - accuracy: 0.5209 - precision: 0.8808 - recall: 0.4673 - auc: 0.6497 - val_loss: 1.0415 - val_get_f1: 0.6356 - val_tp: 24857.0000 - val_fp: 2663.0000 - val_tn: 9893.0000 - val_fn: 25822.0000 - val_accuracy: 0.5495 - val_precision: 0.9032 - val_recall: 0.4905 - val_auc: 0.7034\n",
      "Epoch 6/100\n",
      "252940/252940 [==============================] - 4s 15us/sample - loss: 1.1241 - get_f1: 0.6150 - tp: 95966.0000 - fp: 12721.0000 - tn: 36864.0000 - fn: 107389.0000 - accuracy: 0.5251 - precision: 0.8830 - recall: 0.4719 - auc: 0.6539 - val_loss: 1.0361 - val_get_f1: 0.6569 - val_tp: 26226.0000 - val_fp: 2919.0000 - val_tn: 9637.0000 - val_fn: 24453.0000 - val_accuracy: 0.5671 - val_precision: 0.8998 - val_recall: 0.5175 - val_auc: 0.7044\n",
      "Epoch 7/100\n",
      "252940/252940 [==============================] - 4s 16us/sample - loss: 1.1121 - get_f1: 0.6226 - tp: 97735.0000 - fp: 12882.0000 - tn: 36703.0000 - fn: 105620.0000 - accuracy: 0.5315 - precision: 0.8835 - recall: 0.4806 - auc: 0.6576 - val_loss: 1.0330 - val_get_f1: 0.6690 - val_tp: 27048.0000 - val_fp: 3115.0000 - val_tn: 9441.0000 - val_fn: 23631.0000 - val_accuracy: 0.5770 - val_precision: 0.8967 - val_recall: 0.5337 - val_auc: 0.7052\n",
      "Epoch 8/100\n",
      "252940/252940 [==============================] - 4s 14us/sample - loss: 1.1013 - get_f1: 0.6298 - tp: 99527.0000 - fp: 13086.0000 - tn: 36499.0000 - fn: 103828.0000 - accuracy: 0.5378 - precision: 0.8838 - recall: 0.4894 - auc: 0.6618 - val_loss: 1.0324 - val_get_f1: 0.6688 - val_tp: 27004.0000 - val_fp: 3049.0000 - val_tn: 9507.0000 - val_fn: 23675.0000 - val_accuracy: 0.5774 - val_precision: 0.8985 - val_recall: 0.5328 - val_auc: 0.7057\n",
      "Epoch 9/100\n",
      "252940/252940 [==============================] - 4s 15us/sample - loss: 1.0934 - get_f1: 0.6335 - tp: 100385.0000 - fp: 13147.0000 - tn: 36438.0000 - fn: 102970.0000 - accuracy: 0.5409 - precision: 0.8842 - recall: 0.4936 - auc: 0.6644 - val_loss: 1.0317 - val_get_f1: 0.6635 - val_tp: 26649.0000 - val_fp: 2985.0000 - val_tn: 9571.0000 - val_fn: 24030.0000 - val_accuracy: 0.5728 - val_precision: 0.8993 - val_recall: 0.5258 - val_auc: 0.7066\n",
      "Epoch 10/100\n",
      "252940/252940 [==============================] - 4s 14us/sample - loss: 1.0885 - get_f1: 0.6334 - tp: 100366.0000 - fp: 13139.0000 - tn: 36446.0000 - fn: 102989.0000 - accuracy: 0.5409 - precision: 0.8842 - recall: 0.4936 - auc: 0.6662 - val_loss: 1.0302 - val_get_f1: 0.6739 - val_tp: 27341.0000 - val_fp: 3107.0000 - val_tn: 9449.0000 - val_fn: 23338.0000 - val_accuracy: 0.5818 - val_precision: 0.8980 - val_recall: 0.5395 - val_auc: 0.7069\n",
      "Epoch 11/100\n",
      "252940/252940 [==============================] - 3s 13us/sample - loss: 1.0810 - get_f1: 0.6389 - tp: 101641.0000 - fp: 13122.0000 - tn: 36463.0000 - fn: 101714.0000 - accuracy: 0.5460 - precision: 0.8857 - recall: 0.4998 - auc: 0.6697 - val_loss: 1.0290 - val_get_f1: 0.6821 - val_tp: 27907.0000 - val_fp: 3228.0000 - val_tn: 9328.0000 - val_fn: 22772.0000 - val_accuracy: 0.5888 - val_precision: 0.8963 - val_recall: 0.5507 - val_auc: 0.7068\n",
      "Epoch 12/100\n",
      "252940/252940 [==============================] - 4s 14us/sample - loss: 1.0775 - get_f1: 0.6413 - tp: 102294.0000 - fp: 13262.0000 - tn: 36323.0000 - fn: 101061.0000 - accuracy: 0.5480 - precision: 0.8852 - recall: 0.5030 - auc: 0.6714 - val_loss: 1.0279 - val_get_f1: 0.6871 - val_tp: 28266.0000 - val_fp: 3313.0000 - val_tn: 9243.0000 - val_fn: 22413.0000 - val_accuracy: 0.5932 - val_precision: 0.8951 - val_recall: 0.5577 - val_auc: 0.7075\n",
      "Epoch 13/100\n",
      "252940/252940 [==============================] - 3s 14us/sample - loss: 1.0722 - get_f1: 0.6456 - tp: 103263.0000 - fp: 13233.0000 - tn: 36352.0000 - fn: 100092.0000 - accuracy: 0.5520 - precision: 0.8864 - recall: 0.5078 - auc: 0.6743 - val_loss: 1.0282 - val_get_f1: 0.6823 - val_tp: 27919.0000 - val_fp: 3227.0000 - val_tn: 9329.0000 - val_fn: 22760.0000 - val_accuracy: 0.5890 - val_precision: 0.8964 - val_recall: 0.5509 - val_auc: 0.7077\n",
      "Epoch 14/100\n",
      "252940/252940 [==============================] - 4s 14us/sample - loss: 1.0686 - get_f1: 0.6461 - tp: 103361.0000 - fp: 13168.0000 - tn: 36417.0000 - fn: 99994.0000 - accuracy: 0.5526 - precision: 0.8870 - recall: 0.5083 - auc: 0.6760 - val_loss: 1.0270 - val_get_f1: 0.6905 - val_tp: 28500.0000 - val_fp: 3350.0000 - val_tn: 9206.0000 - val_fn: 22179.0000 - val_accuracy: 0.5963 - val_precision: 0.8948 - val_recall: 0.5624 - val_auc: 0.7081\n",
      "Epoch 15/100\n",
      "252940/252940 [==============================] - 4s 14us/sample - loss: 1.0669 - get_f1: 0.6496 - tp: 104258.0000 - fp: 13308.0000 - tn: 36277.0000 - fn: 99097.0000 - accuracy: 0.5556 - precision: 0.8868 - recall: 0.5127 - auc: 0.6773 - val_loss: 1.0277 - val_get_f1: 0.6865 - val_tp: 28218.0000 - val_fp: 3291.0000 - val_tn: 9265.0000 - val_fn: 22461.0000 - val_accuracy: 0.5928 - val_precision: 0.8956 - val_recall: 0.5568 - val_auc: 0.7081\n",
      "Epoch 16/100\n",
      "252940/252940 [==============================] - 3s 14us/sample - loss: 1.0627 - get_f1: 0.6528 - tp: 104967.0000 - fp: 13236.0000 - tn: 36349.0000 - fn: 98388.0000 - accuracy: 0.5587 - precision: 0.8880 - recall: 0.5162 - auc: 0.6799 - val_loss: 1.0283 - val_get_f1: 0.6811 - val_tp: 27829.0000 - val_fp: 3189.0000 - val_tn: 9367.0000 - val_fn: 22850.0000 - val_accuracy: 0.5882 - val_precision: 0.8972 - val_recall: 0.5491 - val_auc: 0.7080\n",
      "Epoch 17/100\n",
      "252940/252940 [==============================] - 4s 15us/sample - loss: 1.0589 - get_f1: 0.6558 - tp: 105729.0000 - fp: 13360.0000 - tn: 36225.0000 - fn: 97626.0000 - accuracy: 0.5612 - precision: 0.8878 - recall: 0.5199 - auc: 0.6818 - val_loss: 1.0266 - val_get_f1: 0.6974 - val_tp: 28988.0000 - val_fp: 3447.0000 - val_tn: 9109.0000 - val_fn: 21691.0000 - val_accuracy: 0.6025 - val_precision: 0.8937 - val_recall: 0.5720 - val_auc: 0.7083\n",
      "Epoch 18/100\n",
      "252940/252940 [==============================] - 3s 14us/sample - loss: 1.0564 - get_f1: 0.6598 - tp: 106740.0000 - fp: 13394.0000 - tn: 36191.0000 - fn: 96615.0000 - accuracy: 0.5651 - precision: 0.8885 - recall: 0.5249 - auc: 0.6833 - val_loss: 1.0275 - val_get_f1: 0.6895 - val_tp: 28418.0000 - val_fp: 3316.0000 - val_tn: 9240.0000 - val_fn: 22261.0000 - val_accuracy: 0.5955 - val_precision: 0.8955 - val_recall: 0.5607 - val_auc: 0.7083\n"
     ]
    },
    {
     "name": "stdout",
     "output_type": "stream",
     "text": [
      "Epoch 19/100\n",
      "252940/252940 [==============================] - 4s 14us/sample - loss: 1.0538 - get_f1: 0.6610 - tp: 107002.0000 - fp: 13404.0000 - tn: 36181.0000 - fn: 96353.0000 - accuracy: 0.5661 - precision: 0.8887 - recall: 0.5262 - auc: 0.6849 - val_loss: 1.0255 - val_get_f1: 0.7109 - val_tp: 29966.0000 - val_fp: 3647.0000 - val_tn: 8909.0000 - val_fn: 20713.0000 - val_accuracy: 0.6148 - val_precision: 0.8915 - val_recall: 0.5913 - val_auc: 0.7088\n",
      "Epoch 20/100\n",
      "252940/252940 [==============================] - 3s 14us/sample - loss: 1.0521 - get_f1: 0.6665 - tp: 108475.0000 - fp: 13650.0000 - tn: 35935.0000 - fn: 94880.0000 - accuracy: 0.5709 - precision: 0.8882 - recall: 0.5334 - auc: 0.6858 - val_loss: 1.0257 - val_get_f1: 0.7030 - val_tp: 29379.0000 - val_fp: 3511.0000 - val_tn: 9045.0000 - val_fn: 21300.0000 - val_accuracy: 0.6076 - val_precision: 0.8933 - val_recall: 0.5797 - val_auc: 0.7092\n",
      "Epoch 21/100\n",
      "252940/252940 [==============================] - 3s 13us/sample - loss: 1.0483 - get_f1: 0.6705 - tp: 109390.0000 - fp: 13517.0000 - tn: 36068.0000 - fn: 93965.0000 - accuracy: 0.5751 - precision: 0.8900 - recall: 0.5379 - auc: 0.6886 - val_loss: 1.0254 - val_get_f1: 0.7083 - val_tp: 29768.0000 - val_fp: 3599.0000 - val_tn: 8957.0000 - val_fn: 20911.0000 - val_accuracy: 0.6124 - val_precision: 0.8921 - val_recall: 0.5874 - val_auc: 0.7093\n",
      "Epoch 22/100\n",
      "252940/252940 [==============================] - 3s 14us/sample - loss: 1.0483 - get_f1: 0.6711 - tp: 109648.0000 - fp: 13746.0000 - tn: 35839.0000 - fn: 93707.0000 - accuracy: 0.5752 - precision: 0.8886 - recall: 0.5392 - auc: 0.6881 - val_loss: 1.0262 - val_get_f1: 0.6995 - val_tp: 29121.0000 - val_fp: 3446.0000 - val_tn: 9110.0000 - val_fn: 21558.0000 - val_accuracy: 0.6046 - val_precision: 0.8942 - val_recall: 0.5746 - val_auc: 0.7097\n",
      "Epoch 23/100\n",
      "252940/252940 [==============================] - 3s 14us/sample - loss: 1.0461 - get_f1: 0.6755 - tp: 110762.0000 - fp: 13757.0000 - tn: 35828.0000 - fn: 92593.0000 - accuracy: 0.5795 - precision: 0.8895 - recall: 0.5447 - auc: 0.6905 - val_loss: 1.0255 - val_get_f1: 0.7048 - val_tp: 29501.0000 - val_fp: 3525.0000 - val_tn: 9031.0000 - val_fn: 21178.0000 - val_accuracy: 0.6093 - val_precision: 0.8933 - val_recall: 0.5821 - val_auc: 0.7097\n",
      "Epoch 24/100\n",
      "252940/252940 [==============================] - 4s 14us/sample - loss: 1.0448 - get_f1: 0.6794 - tp: 111728.0000 - fp: 13800.0000 - tn: 35785.0000 - fn: 91627.0000 - accuracy: 0.5832 - precision: 0.8901 - recall: 0.5494 - auc: 0.6911 - val_loss: 1.0251 - val_get_f1: 0.7101 - val_tp: 29891.0000 - val_fp: 3609.0000 - val_tn: 8947.0000 - val_fn: 20788.0000 - val_accuracy: 0.6142 - val_precision: 0.8923 - val_recall: 0.5898 - val_auc: 0.7098\n",
      "Epoch 25/100\n",
      "252940/252940 [==============================] - 4s 14us/sample - loss: 1.0437 - get_f1: 0.6813 - tp: 112218.0000 - fp: 13797.0000 - tn: 35788.0000 - fn: 91137.0000 - accuracy: 0.5851 - precision: 0.8905 - recall: 0.5518 - auc: 0.6918 - val_loss: 1.0251 - val_get_f1: 0.7087 - val_tp: 29802.0000 - val_fp: 3607.0000 - val_tn: 8949.0000 - val_fn: 20877.0000 - val_accuracy: 0.6128 - val_precision: 0.8920 - val_recall: 0.5881 - val_auc: 0.7101\n",
      "Epoch 26/100\n",
      "252940/252940 [==============================] - 3s 13us/sample - loss: 1.0416 - get_f1: 0.6842 - tp: 113003.0000 - fp: 13924.0000 - tn: 35661.0000 - fn: 90352.0000 - accuracy: 0.5877 - precision: 0.8903 - recall: 0.5557 - auc: 0.6932 - val_loss: 1.0252 - val_get_f1: 0.7122 - val_tp: 30065.0000 - val_fp: 3677.0000 - val_tn: 8879.0000 - val_fn: 20614.0000 - val_accuracy: 0.6159 - val_precision: 0.8910 - val_recall: 0.5932 - val_auc: 0.7099\n",
      "Epoch 27/100\n",
      "252940/252940 [==============================] - 3s 14us/sample - loss: 1.0406 - get_f1: 0.6858 - tp: 113423.0000 - fp: 13982.0000 - tn: 35603.0000 - fn: 89932.0000 - accuracy: 0.5892 - precision: 0.8903 - recall: 0.5578 - auc: 0.6941 - val_loss: 1.0248 - val_get_f1: 0.7184 - val_tp: 30524.0000 - val_fp: 3760.0000 - val_tn: 8796.0000 - val_fn: 20155.0000 - val_accuracy: 0.6218 - val_precision: 0.8903 - val_recall: 0.6023 - val_auc: 0.7101\n",
      "Epoch 28/100\n",
      "252940/252940 [==============================] - 3s 14us/sample - loss: 1.0404 - get_f1: 0.6889 - tp: 114303.0000 - fp: 14070.0000 - tn: 35515.0000 - fn: 89052.0000 - accuracy: 0.5923 - precision: 0.8904 - recall: 0.5621 - auc: 0.6942 - val_loss: 1.0245 - val_get_f1: 0.7188 - val_tp: 30567.0000 - val_fp: 3796.0000 - val_tn: 8760.0000 - val_fn: 20112.0000 - val_accuracy: 0.6219 - val_precision: 0.8895 - val_recall: 0.6031 - val_auc: 0.7103\n",
      "Epoch 29/100\n",
      "252940/252940 [==============================] - 3s 13us/sample - loss: 1.0390 - get_f1: 0.6920 - tp: 115071.0000 - fp: 14112.0000 - tn: 35473.0000 - fn: 88284.0000 - accuracy: 0.5952 - precision: 0.8908 - recall: 0.5659 - auc: 0.6954 - val_loss: 1.0249 - val_get_f1: 0.7132 - val_tp: 30112.0000 - val_fp: 3641.0000 - val_tn: 8915.0000 - val_fn: 20567.0000 - val_accuracy: 0.6172 - val_precision: 0.8921 - val_recall: 0.5942 - val_auc: 0.7103\n",
      "Epoch 30/100\n",
      "252940/252940 [==============================] - 3s 14us/sample - loss: 1.0393 - get_f1: 0.6921 - tp: 115134.0000 - fp: 14132.0000 - tn: 35453.0000 - fn: 88221.0000 - accuracy: 0.5953 - precision: 0.8907 - recall: 0.5662 - auc: 0.6947 - val_loss: 1.0251 - val_get_f1: 0.7063 - val_tp: 29615.0000 - val_fp: 3558.0000 - val_tn: 8998.0000 - val_fn: 21064.0000 - val_accuracy: 0.6106 - val_precision: 0.8927 - val_recall: 0.5844 - val_auc: 0.7106\n",
      "Epoch 31/100\n",
      "252940/252940 [==============================] - 3s 13us/sample - loss: 1.0385 - get_f1: 0.6922 - tp: 115160.0000 - fp: 14147.0000 - tn: 35438.0000 - fn: 88195.0000 - accuracy: 0.5954 - precision: 0.8906 - recall: 0.5663 - auc: 0.6954 - val_loss: 1.0240 - val_get_f1: 0.7146 - val_tp: 30228.0000 - val_fp: 3683.0000 - val_tn: 8873.0000 - val_fn: 20451.0000 - val_accuracy: 0.6183 - val_precision: 0.8914 - val_recall: 0.5965 - val_auc: 0.7106\n",
      "Epoch 32/100\n",
      "252940/252940 [==============================] - 3s 14us/sample - loss: 1.0377 - get_f1: 0.6951 - tp: 115862.0000 - fp: 14154.0000 - tn: 35431.0000 - fn: 87493.0000 - accuracy: 0.5981 - precision: 0.8911 - recall: 0.5698 - auc: 0.6960 - val_loss: 1.0248 - val_get_f1: 0.7138 - val_tp: 30159.0000 - val_fp: 3661.0000 - val_tn: 8895.0000 - val_fn: 20520.0000 - val_accuracy: 0.6176 - val_precision: 0.8918 - val_recall: 0.5951 - val_auc: 0.7106\n",
      "Epoch 33/100\n",
      "252940/252940 [==============================] - 3s 14us/sample - loss: 1.0371 - get_f1: 0.6974 - tp: 116485.0000 - fp: 14175.0000 - tn: 35410.0000 - fn: 86870.0000 - accuracy: 0.6005 - precision: 0.8915 - recall: 0.5728 - auc: 0.6969 - val_loss: 1.0240 - val_get_f1: 0.7179 - val_tp: 30481.0000 - val_fp: 3742.0000 - val_tn: 8814.0000 - val_fn: 20198.0000 - val_accuracy: 0.6214 - val_precision: 0.8907 - val_recall: 0.6015 - val_auc: 0.7108\n",
      "Epoch 34/100\n",
      "252940/252940 [==============================] - 3s 13us/sample - loss: 1.0363 - get_f1: 0.6969 - tp: 116362.0000 - fp: 14208.0000 - tn: 35377.0000 - fn: 86993.0000 - accuracy: 0.5999 - precision: 0.8912 - recall: 0.5722 - auc: 0.6971 - val_loss: 1.0241 - val_get_f1: 0.7147 - val_tp: 30238.0000 - val_fp: 3692.0000 - val_tn: 8864.0000 - val_fn: 20441.0000 - val_accuracy: 0.6184 - val_precision: 0.8912 - val_recall: 0.5967 - val_auc: 0.7104\n",
      "Epoch 35/100\n",
      "252940/252940 [==============================] - 3s 14us/sample - loss: 1.0364 - get_f1: 0.6974 - tp: 116486.0000 - fp: 14229.0000 - tn: 35356.0000 - fn: 86869.0000 - accuracy: 0.6003 - precision: 0.8911 - recall: 0.5728 - auc: 0.6971 - val_loss: 1.0238 - val_get_f1: 0.7165 - val_tp: 30370.0000 - val_fp: 3718.0000 - val_tn: 8838.0000 - val_fn: 20309.0000 - val_accuracy: 0.6200 - val_precision: 0.8909 - val_recall: 0.5993 - val_auc: 0.7107\n",
      "Epoch 36/100\n",
      "252940/252940 [==============================] - 3s 14us/sample - loss: 1.0364 - get_f1: 0.6996 - tp: 117057.0000 - fp: 14201.0000 - tn: 35384.0000 - fn: 86298.0000 - accuracy: 0.6027 - precision: 0.8918 - recall: 0.5756 - auc: 0.6977 - val_loss: 1.0241 - val_get_f1: 0.7132 - val_tp: 30118.0000 - val_fp: 3651.0000 - val_tn: 8905.0000 - val_fn: 20561.0000 - val_accuracy: 0.6171 - val_precision: 0.8919 - val_recall: 0.5943 - val_auc: 0.7109\n"
     ]
    },
    {
     "name": "stdout",
     "output_type": "stream",
     "text": [
      "Epoch 37/100\n",
      "252940/252940 [==============================] - 3s 13us/sample - loss: 1.0351 - get_f1: 0.7008 - tp: 117370.0000 - fp: 14201.0000 - tn: 35384.0000 - fn: 85985.0000 - accuracy: 0.6039 - precision: 0.8921 - recall: 0.5772 - auc: 0.6982 - val_loss: 1.0239 - val_get_f1: 0.7122 - val_tp: 30060.0000 - val_fp: 3658.0000 - val_tn: 8898.0000 - val_fn: 20619.0000 - val_accuracy: 0.6161 - val_precision: 0.8915 - val_recall: 0.5931 - val_auc: 0.7109\n",
      "Epoch 38/100\n",
      "252940/252940 [==============================] - 4s 14us/sample - loss: 1.0351 - get_f1: 0.6987 - tp: 116836.0000 - fp: 14201.0000 - tn: 35384.0000 - fn: 86519.0000 - accuracy: 0.6018 - precision: 0.8916 - recall: 0.5745 - auc: 0.6983 - val_loss: 1.0237 - val_get_f1: 0.7175 - val_tp: 30453.0000 - val_fp: 3746.0000 - val_tn: 8810.0000 - val_fn: 20226.0000 - val_accuracy: 0.6209 - val_precision: 0.8905 - val_recall: 0.6009 - val_auc: 0.7108\n",
      "Epoch 39/100\n",
      "252940/252940 [==============================] - 3s 13us/sample - loss: 1.0356 - get_f1: 0.6988 - tp: 116885.0000 - fp: 14261.0000 - tn: 35324.0000 - fn: 86470.0000 - accuracy: 0.6018 - precision: 0.8913 - recall: 0.5748 - auc: 0.6978 - val_loss: 1.0235 - val_get_f1: 0.7156 - val_tp: 30314.0000 - val_fp: 3719.0000 - val_tn: 8837.0000 - val_fn: 20365.0000 - val_accuracy: 0.6191 - val_precision: 0.8907 - val_recall: 0.5982 - val_auc: 0.7109\n",
      "Epoch 40/100\n",
      "252940/252940 [==============================] - 3s 14us/sample - loss: 1.0352 - get_f1: 0.6989 - tp: 116822.0000 - fp: 14136.0000 - tn: 35449.0000 - fn: 86533.0000 - accuracy: 0.6020 - precision: 0.8921 - recall: 0.5745 - auc: 0.6984 - val_loss: 1.0235 - val_get_f1: 0.7199 - val_tp: 30628.0000 - val_fp: 3772.0000 - val_tn: 8784.0000 - val_fn: 20051.0000 - val_accuracy: 0.6233 - val_precision: 0.8903 - val_recall: 0.6044 - val_auc: 0.7108\n",
      "Epoch 41/100\n",
      "252940/252940 [==============================] - 4s 15us/sample - loss: 1.0369 - get_f1: 0.6972 - tp: 116392.0000 - fp: 14169.0000 - tn: 35416.0000 - fn: 86963.0000 - accuracy: 0.6002 - precision: 0.8915 - recall: 0.5724 - auc: 0.6970 - val_loss: 1.0237 - val_get_f1: 0.7125 - val_tp: 30073.0000 - val_fp: 3657.0000 - val_tn: 8899.0000 - val_fn: 20606.0000 - val_accuracy: 0.6163 - val_precision: 0.8916 - val_recall: 0.5934 - val_auc: 0.7110\n",
      "Epoch 42/100\n",
      "252940/252940 [==============================] - 3s 14us/sample - loss: 1.0369 - get_f1: 0.6973 - tp: 116425.0000 - fp: 14071.0000 - tn: 35514.0000 - fn: 86930.0000 - accuracy: 0.6007 - precision: 0.8922 - recall: 0.5725 - auc: 0.6976 - val_loss: 1.0240 - val_get_f1: 0.7141 - val_tp: 30199.0000 - val_fp: 3688.0000 - val_tn: 8868.0000 - val_fn: 20480.0000 - val_accuracy: 0.6178 - val_precision: 0.8912 - val_recall: 0.5959 - val_auc: 0.7111\n",
      "Epoch 43/100\n",
      "252940/252940 [==============================] - 3s 14us/sample - loss: 1.0358 - get_f1: 0.7022 - tp: 117782.0000 - fp: 14274.0000 - tn: 35311.0000 - fn: 85573.0000 - accuracy: 0.6053 - precision: 0.8919 - recall: 0.5792 - auc: 0.6982 - val_loss: 1.0243 - val_get_f1: 0.7119 - val_tp: 30032.0000 - val_fp: 3649.0000 - val_tn: 8907.0000 - val_fn: 20647.0000 - val_accuracy: 0.6158 - val_precision: 0.8917 - val_recall: 0.5926 - val_auc: 0.7108\n",
      "Epoch 44/100\n",
      "252940/252940 [==============================] - 3s 13us/sample - loss: 1.0365 - get_f1: 0.6973 - tp: 116424.0000 - fp: 14057.0000 - tn: 35528.0000 - fn: 86931.0000 - accuracy: 0.6007 - precision: 0.8923 - recall: 0.5725 - auc: 0.6974 - val_loss: 1.0243 - val_get_f1: 0.7136 - val_tp: 30157.0000 - val_fp: 3676.0000 - val_tn: 8880.0000 - val_fn: 20522.0000 - val_accuracy: 0.6173 - val_precision: 0.8913 - val_recall: 0.5951 - val_auc: 0.7109\n",
      "Epoch 45/100\n",
      "252940/252940 [==============================] - 3s 14us/sample - loss: 1.0356 - get_f1: 0.6982 - tp: 116635.0000 - fp: 14109.0000 - tn: 35476.0000 - fn: 86720.0000 - accuracy: 0.6014 - precision: 0.8921 - recall: 0.5736 - auc: 0.6984 - val_loss: 1.0238 - val_get_f1: 0.7164 - val_tp: 30364.0000 - val_fp: 3717.0000 - val_tn: 8839.0000 - val_fn: 20315.0000 - val_accuracy: 0.6200 - val_precision: 0.8909 - val_recall: 0.5991 - val_auc: 0.7108\n",
      "Epoch 46/100\n",
      "252940/252940 [==============================] - 3s 14us/sample - loss: 1.0362 - get_f1: 0.6993 - tp: 116910.0000 - fp: 14068.0000 - tn: 35517.0000 - fn: 86445.0000 - accuracy: 0.6026 - precision: 0.8926 - recall: 0.5749 - auc: 0.6977 - val_loss: 1.0237 - val_get_f1: 0.7143 - val_tp: 30218.0000 - val_fp: 3695.0000 - val_tn: 8861.0000 - val_fn: 20461.0000 - val_accuracy: 0.6180 - val_precision: 0.8910 - val_recall: 0.5963 - val_auc: 0.7110\n",
      "Epoch 47/100\n",
      "252940/252940 [==============================] - 3s 13us/sample - loss: 1.0366 - get_f1: 0.7006 - tp: 117373.0000 - fp: 14311.0000 - tn: 35274.0000 - fn: 85982.0000 - accuracy: 0.6035 - precision: 0.8913 - recall: 0.5772 - auc: 0.6977 - val_loss: 1.0247 - val_get_f1: 0.7008 - val_tp: 29211.0000 - val_fp: 3455.0000 - val_tn: 9101.0000 - val_fn: 21468.0000 - val_accuracy: 0.6059 - val_precision: 0.8942 - val_recall: 0.5764 - val_auc: 0.7111\n",
      "Epoch 48/100\n",
      "252940/252940 [==============================] - 3s 14us/sample - loss: 1.0361 - get_f1: 0.6962 - tp: 116051.0000 - fp: 13932.0000 - tn: 35653.0000 - fn: 87304.0000 - accuracy: 0.5998 - precision: 0.8928 - recall: 0.5707 - auc: 0.6978 - val_loss: 1.0241 - val_get_f1: 0.7073 - val_tp: 29680.0000 - val_fp: 3554.0000 - val_tn: 9002.0000 - val_fn: 20999.0000 - val_accuracy: 0.6117 - val_precision: 0.8931 - val_recall: 0.5856 - val_auc: 0.7110\n",
      "Epoch 49/100\n",
      "252940/252940 [==============================] - 3s 14us/sample - loss: 1.0353 - get_f1: 0.7003 - tp: 117264.0000 - fp: 14234.0000 - tn: 35351.0000 - fn: 86091.0000 - accuracy: 0.6034 - precision: 0.8918 - recall: 0.5766 - auc: 0.6984 - val_loss: 1.0236 - val_get_f1: 0.7112 - val_tp: 29977.0000 - val_fp: 3630.0000 - val_tn: 8926.0000 - val_fn: 20702.0000 - val_accuracy: 0.6152 - val_precision: 0.8920 - val_recall: 0.5915 - val_auc: 0.7109\n",
      "Epoch 50/100\n",
      "252940/252940 [==============================] - 4s 14us/sample - loss: 1.0357 - get_f1: 0.6975 - tp: 116414.0000 - fp: 13981.0000 - tn: 35604.0000 - fn: 86941.0000 - accuracy: 0.6010 - precision: 0.8928 - recall: 0.5725 - auc: 0.6982 - val_loss: 1.0241 - val_get_f1: 0.7099 - val_tp: 29880.0000 - val_fp: 3611.0000 - val_tn: 8945.0000 - val_fn: 20799.0000 - val_accuracy: 0.6140 - val_precision: 0.8922 - val_recall: 0.5896 - val_auc: 0.7112\n",
      "Epoch 51/100\n",
      "252940/252940 [==============================] - 3s 14us/sample - loss: 1.0363 - get_f1: 0.6970 - tp: 116263.0000 - fp: 13965.0000 - tn: 35620.0000 - fn: 87092.0000 - accuracy: 0.6005 - precision: 0.8928 - recall: 0.5717 - auc: 0.6983 - val_loss: 1.0238 - val_get_f1: 0.7085 - val_tp: 29775.0000 - val_fp: 3586.0000 - val_tn: 8970.0000 - val_fn: 20904.0000 - val_accuracy: 0.6127 - val_precision: 0.8925 - val_recall: 0.5875 - val_auc: 0.7111\n",
      "Epoch 52/100\n",
      "252940/252940 [==============================] - 3s 14us/sample - loss: 1.0361 - get_f1: 0.6978 - tp: 116489.0000 - fp: 13999.0000 - tn: 35586.0000 - fn: 86866.0000 - accuracy: 0.6012 - precision: 0.8927 - recall: 0.5728 - auc: 0.6981 - val_loss: 1.0236 - val_get_f1: 0.7115 - val_tp: 29996.0000 - val_fp: 3634.0000 - val_tn: 8922.0000 - val_fn: 20683.0000 - val_accuracy: 0.6155 - val_precision: 0.8919 - val_recall: 0.5919 - val_auc: 0.7111\n",
      "Epoch 53/100\n",
      "252940/252940 [==============================] - 3s 14us/sample - loss: 1.0360 - get_f1: 0.6980 - tp: 116605.0000 - fp: 14065.0000 - tn: 35520.0000 - fn: 86750.0000 - accuracy: 0.6014 - precision: 0.8924 - recall: 0.5734 - auc: 0.6978 - val_loss: 1.0235 - val_get_f1: 0.7093 - val_tp: 29838.0000 - val_fp: 3602.0000 - val_tn: 8954.0000 - val_fn: 20841.0000 - val_accuracy: 0.6135 - val_precision: 0.8923 - val_recall: 0.5888 - val_auc: 0.7110\n",
      "Epoch 54/100\n",
      "252940/252940 [==============================] - 3s 14us/sample - loss: 1.0357 - get_f1: 0.6966 - tp: 116208.0000 - fp: 14025.0000 - tn: 35560.0000 - fn: 87147.0000 - accuracy: 0.6000 - precision: 0.8923 - recall: 0.5715 - auc: 0.6982 - val_loss: 1.0233 - val_get_f1: 0.7135 - val_tp: 30156.0000 - val_fp: 3679.0000 - val_tn: 8877.0000 - val_fn: 20523.0000 - val_accuracy: 0.6173 - val_precision: 0.8913 - val_recall: 0.5950 - val_auc: 0.7112\n"
     ]
    },
    {
     "name": "stdout",
     "output_type": "stream",
     "text": [
      "Epoch 55/100\n",
      "252940/252940 [==============================] - 3s 13us/sample - loss: 1.0358 - get_f1: 0.6977 - tp: 116444.0000 - fp: 13984.0000 - tn: 35601.0000 - fn: 86911.0000 - accuracy: 0.6011 - precision: 0.8928 - recall: 0.5726 - auc: 0.6985 - val_loss: 1.0234 - val_get_f1: 0.7185 - val_tp: 30518.0000 - val_fp: 3746.0000 - val_tn: 8810.0000 - val_fn: 20161.0000 - val_accuracy: 0.6219 - val_precision: 0.8907 - val_recall: 0.6022 - val_auc: 0.7111\n",
      "Epoch 56/100\n",
      "252940/252940 [==============================] - 3s 14us/sample - loss: 1.0354 - get_f1: 0.7006 - tp: 117274.0000 - fp: 14111.0000 - tn: 35474.0000 - fn: 86081.0000 - accuracy: 0.6039 - precision: 0.8926 - recall: 0.5767 - auc: 0.6984 - val_loss: 1.0240 - val_get_f1: 0.7044 - val_tp: 29469.0000 - val_fp: 3503.0000 - val_tn: 9053.0000 - val_fn: 21210.0000 - val_accuracy: 0.6092 - val_precision: 0.8938 - val_recall: 0.5815 - val_auc: 0.7112\n",
      "Epoch 57/100\n",
      "252940/252940 [==============================] - 3s 13us/sample - loss: 1.0360 - get_f1: 0.6969 - tp: 116222.0000 - fp: 13881.0000 - tn: 35704.0000 - fn: 87133.0000 - accuracy: 0.6006 - precision: 0.8933 - recall: 0.5715 - auc: 0.6983 - val_loss: 1.0232 - val_get_f1: 0.7173 - val_tp: 30439.0000 - val_fp: 3737.0000 - val_tn: 8819.0000 - val_fn: 20240.0000 - val_accuracy: 0.6208 - val_precision: 0.8907 - val_recall: 0.6006 - val_auc: 0.7110\n",
      "Epoch 58/100\n",
      "252940/252940 [==============================] - 3s 14us/sample - loss: 1.0361 - get_f1: 0.7002 - tp: 117185.0000 - fp: 14098.0000 - tn: 35487.0000 - fn: 86170.0000 - accuracy: 0.6036 - precision: 0.8926 - recall: 0.5763 - auc: 0.6981 - val_loss: 1.0238 - val_get_f1: 0.7175 - val_tp: 30466.0000 - val_fp: 3762.0000 - val_tn: 8794.0000 - val_fn: 20213.0000 - val_accuracy: 0.6209 - val_precision: 0.8901 - val_recall: 0.6012 - val_auc: 0.7110\n",
      "Epoch 59/100\n",
      "252940/252940 [==============================] - 4s 14us/sample - loss: 1.0361 - get_f1: 0.6980 - tp: 116613.0000 - fp: 14124.0000 - tn: 35461.0000 - fn: 86742.0000 - accuracy: 0.6012 - precision: 0.8920 - recall: 0.5734 - auc: 0.6980 - val_loss: 1.0239 - val_get_f1: 0.7114 - val_tp: 29991.0000 - val_fp: 3629.0000 - val_tn: 8927.0000 - val_fn: 20688.0000 - val_accuracy: 0.6155 - val_precision: 0.8921 - val_recall: 0.5918 - val_auc: 0.7111\n",
      "Epoch 60/100\n",
      "252940/252940 [==============================] - 4s 14us/sample - loss: 1.0359 - get_f1: 0.6985 - tp: 116755.0000 - fp: 14151.0000 - tn: 35434.0000 - fn: 86600.0000 - accuracy: 0.6017 - precision: 0.8919 - recall: 0.5741 - auc: 0.6978 - val_loss: 1.0239 - val_get_f1: 0.7088 - val_tp: 29785.0000 - val_fp: 3572.0000 - val_tn: 8984.0000 - val_fn: 20894.0000 - val_accuracy: 0.6131 - val_precision: 0.8929 - val_recall: 0.5877 - val_auc: 0.7112\n",
      "Epoch 61/100\n",
      "252940/252940 [==============================] - 4s 14us/sample - loss: 1.0353 - get_f1: 0.6977 - tp: 116476.0000 - fp: 13989.0000 - tn: 35596.0000 - fn: 86879.0000 - accuracy: 0.6012 - precision: 0.8928 - recall: 0.5728 - auc: 0.6989 - val_loss: 1.0236 - val_get_f1: 0.7192 - val_tp: 30572.0000 - val_fp: 3751.0000 - val_tn: 8805.0000 - val_fn: 20107.0000 - val_accuracy: 0.6227 - val_precision: 0.8907 - val_recall: 0.6032 - val_auc: 0.7109\n",
      "Epoch 62/100\n",
      "252940/252940 [==============================] - 4s 15us/sample - loss: 1.0358 - get_f1: 0.6999 - tp: 117092.0000 - fp: 14131.0000 - tn: 35454.0000 - fn: 86263.0000 - accuracy: 0.6031 - precision: 0.8923 - recall: 0.5758 - auc: 0.6983 - val_loss: 1.0237 - val_get_f1: 0.7137 - val_tp: 30162.0000 - val_fp: 3666.0000 - val_tn: 8890.0000 - val_fn: 20517.0000 - val_accuracy: 0.6176 - val_precision: 0.8916 - val_recall: 0.5952 - val_auc: 0.7112\n",
      "Epoch 63/100\n",
      "252940/252940 [==============================] - 5s 18us/sample - loss: 1.0352 - get_f1: 0.6983 - tp: 116620.0000 - fp: 14034.0000 - tn: 35551.0000 - fn: 86735.0000 - accuracy: 0.6016 - precision: 0.8926 - recall: 0.5735 - auc: 0.6988 - val_loss: 1.0234 - val_get_f1: 0.7173 - val_tp: 30441.0000 - val_fp: 3741.0000 - val_tn: 8815.0000 - val_fn: 20238.0000 - val_accuracy: 0.6208 - val_precision: 0.8906 - val_recall: 0.6007 - val_auc: 0.7110\n",
      "Epoch 64/100\n",
      "252940/252940 [==============================] - 4s 16us/sample - loss: 1.0359 - get_f1: 0.6995 - tp: 117002.0000 - fp: 14155.0000 - tn: 35430.0000 - fn: 86353.0000 - accuracy: 0.6026 - precision: 0.8921 - recall: 0.5754 - auc: 0.6982 - val_loss: 1.0237 - val_get_f1: 0.7086 - val_tp: 29788.0000 - val_fp: 3592.0000 - val_tn: 8964.0000 - val_fn: 20891.0000 - val_accuracy: 0.6128 - val_precision: 0.8924 - val_recall: 0.5878 - val_auc: 0.7112\n",
      "Epoch 65/100\n",
      "252940/252940 [==============================] - 4s 16us/sample - loss: 1.0358 - get_f1: 0.6980 - tp: 116590.0000 - fp: 14074.0000 - tn: 35511.0000 - fn: 86765.0000 - accuracy: 0.6013 - precision: 0.8923 - recall: 0.5733 - auc: 0.6982 - val_loss: 1.0233 - val_get_f1: 0.7152 - val_tp: 30284.0000 - val_fp: 3706.0000 - val_tn: 8850.0000 - val_fn: 20395.0000 - val_accuracy: 0.6189 - val_precision: 0.8910 - val_recall: 0.5976 - val_auc: 0.7112\n",
      "Epoch 66/100\n",
      "252940/252940 [==============================] - 4s 16us/sample - loss: 1.0356 - get_f1: 0.7004 - tp: 117207.0000 - fp: 14140.0000 - tn: 35445.0000 - fn: 86148.0000 - accuracy: 0.6035 - precision: 0.8923 - recall: 0.5764 - auc: 0.6984 - val_loss: 1.0238 - val_get_f1: 0.7047 - val_tp: 29494.0000 - val_fp: 3516.0000 - val_tn: 9040.0000 - val_fn: 21185.0000 - val_accuracy: 0.6094 - val_precision: 0.8935 - val_recall: 0.5820 - val_auc: 0.7113\n",
      "Epoch 67/100\n",
      "252940/252940 [==============================] - 4s 16us/sample - loss: 1.0353 - get_f1: 0.6979 - tp: 116550.0000 - fp: 14030.0000 - tn: 35555.0000 - fn: 86805.0000 - accuracy: 0.6013 - precision: 0.8926 - recall: 0.5731 - auc: 0.6984 - val_loss: 1.0238 - val_get_f1: 0.7128 - val_tp: 30105.0000 - val_fp: 3670.0000 - val_tn: 8886.0000 - val_fn: 20574.0000 - val_accuracy: 0.6166 - val_precision: 0.8913 - val_recall: 0.5940 - val_auc: 0.7111\n",
      "Epoch 68/100\n",
      "252940/252940 [==============================] - 4s 16us/sample - loss: 1.0352 - get_f1: 0.6981 - tp: 116538.0000 - fp: 13989.0000 - tn: 35596.0000 - fn: 86817.0000 - accuracy: 0.6015 - precision: 0.8928 - recall: 0.5731 - auc: 0.6986 - val_loss: 1.0234 - val_get_f1: 0.7085 - val_tp: 29787.0000 - val_fp: 3599.0000 - val_tn: 8957.0000 - val_fn: 20892.0000 - val_accuracy: 0.6127 - val_precision: 0.8922 - val_recall: 0.5878 - val_auc: 0.7112\n",
      "Epoch 69/100\n",
      "252940/252940 [==============================] - 4s 15us/sample - loss: 1.0352 - get_f1: 0.6998 - tp: 117023.0000 - fp: 14034.0000 - tn: 35551.0000 - fn: 86332.0000 - accuracy: 0.6032 - precision: 0.8929 - recall: 0.5755 - auc: 0.6986 - val_loss: 1.0238 - val_get_f1: 0.7135 - val_tp: 30154.0000 - val_fp: 3676.0000 - val_tn: 8880.0000 - val_fn: 20525.0000 - val_accuracy: 0.6173 - val_precision: 0.8913 - val_recall: 0.5950 - val_auc: 0.7111\n",
      "Epoch 70/100\n",
      "252940/252940 [==============================] - 4s 16us/sample - loss: 1.0359 - get_f1: 0.6973 - tp: 116397.0000 - fp: 14000.0000 - tn: 35585.0000 - fn: 86958.0000 - accuracy: 0.6009 - precision: 0.8926 - recall: 0.5724 - auc: 0.6985 - val_loss: 1.0236 - val_get_f1: 0.7171 - val_tp: 30413.0000 - val_fp: 3721.0000 - val_tn: 8835.0000 - val_fn: 20266.0000 - val_accuracy: 0.6207 - val_precision: 0.8910 - val_recall: 0.6001 - val_auc: 0.7111\n",
      "Epoch 71/100\n",
      "252940/252940 [==============================] - 4s 17us/sample - loss: 1.0356 - get_f1: 0.6985 - tp: 116767.0000 - fp: 14086.0000 - tn: 35499.0000 - fn: 86588.0000 - accuracy: 0.6020 - precision: 0.8924 - recall: 0.5742 - auc: 0.6983 - val_loss: 1.0238 - val_get_f1: 0.7109 - val_tp: 29954.0000 - val_fp: 3633.0000 - val_tn: 8923.0000 - val_fn: 20725.0000 - val_accuracy: 0.6148 - val_precision: 0.8918 - val_recall: 0.5911 - val_auc: 0.7110\n",
      "Epoch 72/100\n"
     ]
    },
    {
     "name": "stdout",
     "output_type": "stream",
     "text": [
      "252940/252940 [==============================] - 4s 17us/sample - loss: 1.0358 - get_f1: 0.6969 - tp: 116238.0000 - fp: 13959.0000 - tn: 35626.0000 - fn: 87117.0000 - accuracy: 0.6004 - precision: 0.8928 - recall: 0.5716 - auc: 0.6984 - val_loss: 1.0238 - val_get_f1: 0.7109 - val_tp: 29954.0000 - val_fp: 3626.0000 - val_tn: 8930.0000 - val_fn: 20725.0000 - val_accuracy: 0.6149 - val_precision: 0.8920 - val_recall: 0.5911 - val_auc: 0.71127.0000 - fn: 42927.0000 - accuracy: 0.6011 - precisio\n",
      "Epoch 73/100\n",
      "252940/252940 [==============================] - 4s 16us/sample - loss: 1.0357 - get_f1: 0.6989 - tp: 116823.0000 - fp: 14055.0000 - tn: 35530.0000 - fn: 86532.0000 - accuracy: 0.6023 - precision: 0.8926 - recall: 0.5745 - auc: 0.6983 - val_loss: 1.0232 - val_get_f1: 0.7124 - val_tp: 30070.0000 - val_fp: 3654.0000 - val_tn: 8902.0000 - val_fn: 20609.0000 - val_accuracy: 0.6163 - val_precision: 0.8916 - val_recall: 0.5933 - val_auc: 0.7113\n",
      "Epoch 74/100\n",
      "252940/252940 [==============================] - 4s 16us/sample - loss: 1.0349 - get_f1: 0.6991 - tp: 116871.0000 - fp: 14094.0000 - tn: 35491.0000 - fn: 86484.0000 - accuracy: 0.6024 - precision: 0.8924 - recall: 0.5747 - auc: 0.6987 - val_loss: 1.0236 - val_get_f1: 0.7104 - val_tp: 29913.0000 - val_fp: 3613.0000 - val_tn: 8943.0000 - val_fn: 20766.0000 - val_accuracy: 0.6145 - val_precision: 0.8922 - val_recall: 0.5902 - val_auc: 0.7113\n",
      "Epoch 75/100\n",
      "252940/252940 [==============================] - 4s 17us/sample - loss: 1.0352 - get_f1: 0.6987 - tp: 116727.0000 - fp: 14028.0000 - tn: 35557.0000 - fn: 86628.0000 - accuracy: 0.6021 - precision: 0.8927 - recall: 0.5740 - auc: 0.6986 - val_loss: 1.0232 - val_get_f1: 0.7151 - val_tp: 30278.0000 - val_fp: 3711.0000 - val_tn: 8845.0000 - val_fn: 20401.0000 - val_accuracy: 0.6187 - val_precision: 0.8908 - val_recall: 0.5974 - val_auc: 0.7110000 - tn: 20915.0000 - fn: 51173.0000 - accuracy: 0.6024 - precision: 0.\n",
      "Epoch 76/100\n",
      "252940/252940 [==============================] - 4s 16us/sample - loss: 1.0356 - get_f1: 0.6980 - tp: 116578.0000 - fp: 14065.0000 - tn: 35520.0000 - fn: 86777.0000 - accuracy: 0.6013 - precision: 0.8923 - recall: 0.5733 - auc: 0.6985 - val_loss: 1.0241 - val_get_f1: 0.7115 - val_tp: 30004.0000 - val_fp: 3650.0000 - val_tn: 8906.0000 - val_fn: 20675.0000 - val_accuracy: 0.6153 - val_precision: 0.8915 - val_recall: 0.5920 - val_auc: 0.7111\n",
      "Epoch 77/100\n",
      "252940/252940 [==============================] - 4s 16us/sample - loss: 1.0353 - get_f1: 0.6996 - tp: 116982.0000 - fp: 14045.0000 - tn: 35540.0000 - fn: 86373.0000 - accuracy: 0.6030 - precision: 0.8928 - recall: 0.5753 - auc: 0.6988 - val_loss: 1.0236 - val_get_f1: 0.7151 - val_tp: 30265.0000 - val_fp: 3688.0000 - val_tn: 8868.0000 - val_fn: 20414.0000 - val_accuracy: 0.6189 - val_precision: 0.8914 - val_recall: 0.5972 - val_auc: 0.7112\n",
      "Epoch 78/100\n",
      "252940/252940 [==============================] - 4s 16us/sample - loss: 1.0350 - get_f1: 0.6992 - tp: 116899.0000 - fp: 14067.0000 - tn: 35518.0000 - fn: 86456.0000 - accuracy: 0.6026 - precision: 0.8926 - recall: 0.5749 - auc: 0.6985 - val_loss: 1.0234 - val_get_f1: 0.7132 - val_tp: 30120.0000 - val_fp: 3660.0000 - val_tn: 8896.0000 - val_fn: 20559.0000 - val_accuracy: 0.6170 - val_precision: 0.8917 - val_recall: 0.5943 - val_auc: 0.7111- tp: 77590.0000 - fp: 9307.0000 - tn: 23572.0000 - fn: 57467.0000 - accuracy: 0.6024 - precision: 0.8929 -\n",
      "Epoch 79/100\n",
      "252940/252940 [==============================] - 4s 17us/sample - loss: 1.0357 - get_f1: 0.6978 - tp: 116512.0000 - fp: 14045.0000 - tn: 35540.0000 - fn: 86843.0000 - accuracy: 0.6011 - precision: 0.8924 - recall: 0.5729 - auc: 0.6985 - val_loss: 1.0238 - val_get_f1: 0.7122 - val_tp: 30043.0000 - val_fp: 3632.0000 - val_tn: 8924.0000 - val_fn: 20636.0000 - val_accuracy: 0.6162 - val_precision: 0.8921 - val_recall: 0.5928 - val_auc: 0.7113\n",
      "Epoch 80/100\n",
      "252940/252940 [==============================] - 4s 16us/sample - loss: 1.0354 - get_f1: 0.6982 - tp: 116544.0000 - fp: 13968.0000 - tn: 35617.0000 - fn: 86811.0000 - accuracy: 0.6016 - precision: 0.8930 - recall: 0.5731 - auc: 0.6987 - val_loss: 1.0235 - val_get_f1: 0.7204 - val_tp: 30673.0000 - val_fp: 3794.0000 - val_tn: 8762.0000 - val_fn: 20006.0000 - val_accuracy: 0.6236 - val_precision: 0.8899 - val_recall: 0.6052 - val_auc: 0.7111\n",
      "Epoch 81/100\n",
      "252940/252940 [==============================] - 4s 17us/sample - loss: 1.0365 - get_f1: 0.7000 - tp: 117152.0000 - fp: 14107.0000 - tn: 35478.0000 - fn: 86203.0000 - accuracy: 0.6034 - precision: 0.8925 - recall: 0.5761 - auc: 0.6983 - val_loss: 1.0240 - val_get_f1: 0.7095 - val_tp: 29849.0000 - val_fp: 3602.0000 - val_tn: 8954.0000 - val_fn: 20830.0000 - val_accuracy: 0.6136 - val_precision: 0.8923 - val_recall: 0.5890 - val_auc: 0.7113\n",
      "Epoch 82/100\n",
      "252940/252940 [==============================] - 4s 16us/sample - loss: 1.0354 - get_f1: 0.6976 - tp: 116472.0000 - fp: 14058.0000 - tn: 35527.0000 - fn: 86883.0000 - accuracy: 0.6009 - precision: 0.8923 - recall: 0.5728 - auc: 0.6983 - val_loss: 1.0233 - val_get_f1: 0.7128 - val_tp: 30094.0000 - val_fp: 3653.0000 - val_tn: 8903.0000 - val_fn: 20585.0000 - val_accuracy: 0.6167 - val_precision: 0.8918 - val_recall: 0.5938 - val_auc: 0.7112\n",
      "Epoch 83/100\n",
      "252940/252940 [==============================] - 4s 16us/sample - loss: 1.0354 - get_f1: 0.6980 - tp: 116587.0000 - fp: 14038.0000 - tn: 35547.0000 - fn: 86768.0000 - accuracy: 0.6015 - precision: 0.8925 - recall: 0.5733 - auc: 0.6985 - val_loss: 1.0235 - val_get_f1: 0.7163 - val_tp: 30362.0000 - val_fp: 3724.0000 - val_tn: 8832.0000 - val_fn: 20317.0000 - val_accuracy: 0.6198 - val_precision: 0.8907 - val_recall: 0.5991 - val_auc: 0.7112\n",
      "Epoch 84/100\n",
      "252940/252940 [==============================] - 4s 16us/sample - loss: 1.0357 - get_f1: 0.6973 - tp: 116339.0000 - fp: 13979.0000 - tn: 35606.0000 - fn: 87016.0000 - accuracy: 0.6007 - precision: 0.8927 - recall: 0.5721 - auc: 0.6979 - val_loss: 1.0237 - val_get_f1: 0.7117 - val_tp: 30020.0000 - val_fp: 3651.0000 - val_tn: 8905.0000 - val_fn: 20659.0000 - val_accuracy: 0.6156 - val_precision: 0.8916 - val_recall: 0.5924 - val_auc: 0.7111\n",
      "Epoch 85/100\n",
      "252940/252940 [==============================] - 4s 17us/sample - loss: 1.0356 - get_f1: 0.6980 - tp: 116550.0000 - fp: 14022.0000 - tn: 35563.0000 - fn: 86805.0000 - accuracy: 0.6014 - precision: 0.8926 - recall: 0.5731 - auc: 0.6984 - val_loss: 1.0236 - val_get_f1: 0.7062 - val_tp: 29606.0000 - val_fp: 3548.0000 - val_tn: 9008.0000 - val_fn: 21073.0000 - val_accuracy: 0.6106 - val_precision: 0.8930 - val_recall: 0.5842 - val_auc: 0.7111\n",
      "Epoch 86/100\n",
      "252940/252940 [==============================] - 4s 16us/sample - loss: 1.0363 - get_f1: 0.6972 - tp: 116334.0000 - fp: 14010.0000 - tn: 35575.0000 - fn: 87021.0000 - accuracy: 0.6006 - precision: 0.8925 - recall: 0.5721 - auc: 0.6980 - val_loss: 1.0238 - val_get_f1: 0.7122 - val_tp: 30056.0000 - val_fp: 3651.0000 - val_tn: 8905.0000 - val_fn: 20623.0000 - val_accuracy: 0.6161 - val_precision: 0.8917 - val_recall: 0.5931 - val_auc: 0.7112\n",
      "Epoch 87/100\n",
      "252940/252940 [==============================] - 4s 16us/sample - loss: 1.0364 - get_f1: 0.6967 - tp: 116265.0000 - fp: 14056.0000 - tn: 35529.0000 - fn: 87090.0000 - accuracy: 0.6001 - precision: 0.8921 - recall: 0.5717 - auc: 0.6979 - val_loss: 1.0234 - val_get_f1: 0.7193 - val_tp: 30582.0000 - val_fp: 3755.0000 - val_tn: 8801.0000 - val_fn: 20097.0000 - val_accuracy: 0.6228 - val_precision: 0.8906 - val_recall: 0.6034 - val_auc: 0.7111\n",
      "Epoch 88/100\n",
      "252940/252940 [==============================] - 4s 16us/sample - loss: 1.0352 - get_f1: 0.7001 - tp: 117169.0000 - fp: 14122.0000 - tn: 35463.0000 - fn: 86186.0000 - accuracy: 0.6034 - precision: 0.8924 - recall: 0.5762 - auc: 0.6988 - val_loss: 1.0237 - val_get_f1: 0.7073 - val_tp: 29688.0000 - val_fp: 3562.0000 - val_tn: 8994.0000 - val_fn: 20991.0000 - val_accuracy: 0.6117 - val_precision: 0.8929 - val_recall: 0.5858 - val_auc: 0.7114\n",
      "Epoch 89/100\n"
     ]
    },
    {
     "name": "stdout",
     "output_type": "stream",
     "text": [
      "252940/252940 [==============================] - 4s 15us/sample - loss: 1.0363 - get_f1: 0.6985 - tp: 116661.0000 - fp: 14016.0000 - tn: 35569.0000 - fn: 86694.0000 - accuracy: 0.6018 - precision: 0.8927 - recall: 0.5737 - auc: 0.6980 - val_loss: 1.0237 - val_get_f1: 0.7161 - val_tp: 30345.0000 - val_fp: 3716.0000 - val_tn: 8840.0000 - val_fn: 20334.0000 - val_accuracy: 0.6197 - val_precision: 0.8909 - val_recall: 0.5988 - val_auc: 0.7111\n",
      "Epoch 90/100\n",
      "252940/252940 [==============================] - 4s 17us/sample - loss: 1.0355 - get_f1: 0.7002 - tp: 117188.0000 - fp: 14128.0000 - tn: 35457.0000 - fn: 86167.0000 - accuracy: 0.6035 - precision: 0.8924 - recall: 0.5763 - auc: 0.6982 - val_loss: 1.0237 - val_get_f1: 0.7080 - val_tp: 29748.0000 - val_fp: 3596.0000 - val_tn: 8960.0000 - val_fn: 20931.0000 - val_accuracy: 0.6121 - val_precision: 0.8922 - val_recall: 0.5870 - val_auc: 0.7112\n",
      "Epoch 91/100\n",
      "252940/252940 [==============================] - 4s 16us/sample - loss: 1.0356 - get_f1: 0.6987 - tp: 116722.0000 - fp: 14002.0000 - tn: 35583.0000 - fn: 86633.0000 - accuracy: 0.6021 - precision: 0.8929 - recall: 0.5740 - auc: 0.6985 - val_loss: 1.0239 - val_get_f1: 0.7136 - val_tp: 30158.0000 - val_fp: 3672.0000 - val_tn: 8884.0000 - val_fn: 20521.0000 - val_accuracy: 0.6174 - val_precision: 0.8915 - val_recall: 0.5951 - val_auc: 0.7112\n",
      "Epoch 92/100\n",
      "252940/252940 [==============================] - 4s 16us/sample - loss: 1.0352 - get_f1: 0.6977 - tp: 116428.0000 - fp: 13985.0000 - tn: 35600.0000 - fn: 86927.0000 - accuracy: 0.6010 - precision: 0.8928 - recall: 0.5725 - auc: 0.6983 - val_loss: 1.0239 - val_get_f1: 0.7189 - val_tp: 30552.0000 - val_fp: 3757.0000 - val_tn: 8799.0000 - val_fn: 20127.0000 - val_accuracy: 0.6223 - val_precision: 0.8905 - val_recall: 0.6029 - val_auc: 0.7111\n",
      "Epoch 93/100\n",
      "252940/252940 [==============================] - 4s 17us/sample - loss: 1.0350 - get_f1: 0.6983 - tp: 116726.0000 - fp: 14124.0000 - tn: 35461.0000 - fn: 86629.0000 - accuracy: 0.6017 - precision: 0.8921 - recall: 0.5740 - auc: 0.6981 - val_loss: 1.0239 - val_get_f1: 0.7069 - val_tp: 29651.0000 - val_fp: 3552.0000 - val_tn: 9004.0000 - val_fn: 21028.0000 - val_accuracy: 0.6113 - val_precision: 0.8930 - val_recall: 0.5851 - val_auc: 0.71136876.0000 - fn: 41123.0000 - accuracy: 0.6036 - precisi\n",
      "Epoch 94/100\n",
      "252940/252940 [==============================] - 4s 16us/sample - loss: 1.0357 - get_f1: 0.6978 - tp: 116467.0000 - fp: 13959.0000 - tn: 35626.0000 - fn: 86888.0000 - accuracy: 0.6013 - precision: 0.8930 - recall: 0.5727 - auc: 0.6986 - val_loss: 1.0245 - val_get_f1: 0.7032 - val_tp: 29384.0000 - val_fp: 3502.0000 - val_tn: 9054.0000 - val_fn: 21295.0000 - val_accuracy: 0.6079 - val_precision: 0.8935 - val_recall: 0.5798 - val_auc: 0.7113- tn: 24429.0000 - fn: 59480.0000 - accuracy: 0.6030 - precision: 0.8932 - r\n",
      "Epoch 95/100\n",
      "252940/252940 [==============================] - 4s 16us/sample - loss: 1.0365 - get_f1: 0.6953 - tp: 115808.0000 - fp: 13916.0000 - tn: 35669.0000 - fn: 87547.0000 - accuracy: 0.5989 - precision: 0.8927 - recall: 0.5695 - auc: 0.6979 - val_loss: 1.0243 - val_get_f1: 0.7095 - val_tp: 29855.0000 - val_fp: 3615.0000 - val_tn: 8941.0000 - val_fn: 20824.0000 - val_accuracy: 0.6135 - val_precision: 0.8920 - val_recall: 0.5891 - val_auc: 0.7112\n",
      "Epoch 96/100\n",
      "252940/252940 [==============================] - 4s 17us/sample - loss: 1.0357 - get_f1: 0.6990 - tp: 116836.0000 - fp: 14065.0000 - tn: 35520.0000 - fn: 86519.0000 - accuracy: 0.6023 - precision: 0.8926 - recall: 0.5745 - auc: 0.6986 - val_loss: 1.0237 - val_get_f1: 0.7154 - val_tp: 30290.0000 - val_fp: 3697.0000 - val_tn: 8859.0000 - val_fn: 20389.0000 - val_accuracy: 0.6191 - val_precision: 0.8912 - val_recall: 0.5977 - val_auc: 0.7112\n",
      "Epoch 97/100\n",
      "252940/252940 [==============================] - 4s 17us/sample - loss: 1.0356 - get_f1: 0.6989 - tp: 116822.0000 - fp: 14084.0000 - tn: 35501.0000 - fn: 86533.0000 - accuracy: 0.6022 - precision: 0.8924 - recall: 0.5745 - auc: 0.6988 - val_loss: 1.0236 - val_get_f1: 0.7101 - val_tp: 29900.0000 - val_fp: 3618.0000 - val_tn: 8938.0000 - val_fn: 20779.0000 - val_accuracy: 0.6142 - val_precision: 0.8921 - val_recall: 0.5900 - val_auc: 0.7112 14937.0000 - fn: 35948.0000 - accuracy: 0.6062 - prec\n",
      "Epoch 98/100\n",
      "251904/252940 [============================>.] - ETA: 0s - loss: 1.0351 - get_f1: 0.6999 - tp: 116527.0000 - fp: 13931.0000 - tn: 35460.0000 - fn: 85986.0000 - accuracy: 0.6034 - precision: 0.8932 - recall: 0.5754 - auc: 0.6990Restoring model weights from the end of the best epoch.\n",
      "252940/252940 [==============================] - 4s 17us/sample - loss: 1.0349 - get_f1: 0.6999 - tp: 117012.0000 - fp: 13974.0000 - tn: 35611.0000 - fn: 86343.0000 - accuracy: 0.6034 - precision: 0.8933 - recall: 0.5754 - auc: 0.6991 - val_loss: 1.0232 - val_get_f1: 0.7151 - val_tp: 30267.0000 - val_fp: 3693.0000 - val_tn: 8863.0000 - val_fn: 20412.0000 - val_accuracy: 0.6188 - val_precision: 0.8913 - val_recall: 0.5972 - val_auc: 0.7112\n",
      "Epoch 00098: early stopping\n"
     ]
    }
   ],
   "source": [
    "# Training the model using MLP\n",
    "\n",
    "#callback = tf.keras.callbacks.EarlyStopping(monitor='val_loss', patience=3)\n",
    "class_weight = {0: 4.25,\n",
    "                1: 1.}\n",
    "baseline_history = model.fit(\n",
    "    train_features,\n",
    "    train_labels,\n",
    "    batch_size=BATCH_SIZE,\n",
    "    epochs=EPOCHS,\n",
    "    callbacks = [early_stopping],\n",
    "    class_weight=class_weight,\n",
    "    validation_data=(val_features, val_labels))\n"
   ]
  },
  {
   "cell_type": "code",
   "execution_count": 252,
   "metadata": {},
   "outputs": [],
   "source": [
    "import matplotlib.pyplot as plt\n",
    "\n",
    "def plot_metrics(history):\n",
    "    metrics = ['loss', 'auc', 'precision', 'recall']\n",
    "    for n,metric in enumerate(metrics):\n",
    "        name = metric.replace(\"_\",\" \").capitalize()\n",
    "        plt.subplot(2,2,n+1)\n",
    "        plt.gcf().set_size_inches(8.5, 5)\n",
    "        plt.plot(history.epoch,  history.history[metric], label='Train')\n",
    "        plt.plot(history.epoch, history.history['val_'+metric],\n",
    "            linestyle=\"--\", label='Val')\n",
    "        plt.xlabel('Epoch')\n",
    "        plt.ylabel(name)\n",
    "        \n",
    "        \n",
    "        plt.legend()\n",
    "        plt.tight_layout()\n",
    "        "
   ]
  },
  {
   "cell_type": "code",
   "execution_count": 253,
   "metadata": {},
   "outputs": [
    {
     "data": {
      "image/png": "[encoded data removed]",
      "text/plain": [
       "<Figure size 612x360 with 4 Axes>"
      ]
     },
     "metadata": {
      "needs_background": "light"
     },
     "output_type": "display_data"
    }
   ],
   "source": [
    "plot_metrics(baseline_history)\n",
    "\n"
   ]
  },
  {
   "cell_type": "markdown",
   "metadata": {},
   "source": [
    "# Section 3: Evaluating Model Performance.\n",
    "\n"
   ]
  },
  {
   "cell_type": "code",
   "execution_count": 263,
   "metadata": {},
   "outputs": [],
   "source": [
    "from sklearn.metrics import classification_report,confusion_matrix,accuracy_score,roc_auc_score\n",
    "def plot_cm(labels, predictions, p=0.5):\n",
    "        cm =confusion_matrix(labels, predictions > p)\n",
    "        plt.figure(figsize=(5,5))\n",
    "        sns.heatmap(cm, annot=True, fmt=\"d\")\n",
    "        plt.title('Confusion matrix')\n",
    "        plt.ylabel('Actual label')\n",
    "        plt.xlabel('Predicted label')\n"
   ]
  },
  {
   "cell_type": "code",
   "execution_count": 277,
   "metadata": {},
   "outputs": [],
   "source": [
    "train_predictions = model.predict(train_features, batch_size=BATCH_SIZE)\n",
    "test_predictions = model.predict(test_features, batch_size=BATCH_SIZE)"
   ]
  },
  {
   "cell_type": "code",
   "execution_count": 290,
   "metadata": {},
   "outputs": [
    {
     "name": "stdout",
     "output_type": "stream",
     "text": [
      "loss :  0.6380929741159177\n",
      "get_f1 :  0.70928514\n",
      "tp :  37407.0\n",
      "fp :  4406.0\n",
      "tn :  10976.0\n",
      "fn :  26255.0\n",
      "accuracy :  0.6121021\n",
      "precision :  0.8946261\n",
      "recall :  0.5875876\n",
      "auc :  0.7100255\n"
     ]
    },
    {
     "data": {
      "image/png": "[encoded data removed]",
      "text/plain": [
       "<Figure size 360x360 with 2 Axes>"
      ]
     },
     "metadata": {
      "needs_background": "light"
     },
     "output_type": "display_data"
    }
   ],
   "source": [
    "evaluate_test = model.evaluate(test_features, test_labels,\n",
    "                                  batch_size=BATCH_SIZE, verbose=0)\n",
    "for name, value in zip(model.metrics_names, evaluate_test):\n",
    "    print(name, ': ', value)\n",
    "    \n",
    "plot_cm(test_labels,test_predictions)\n",
    "\n"
   ]
  },
  {
   "cell_type": "code",
   "execution_count": 285,
   "metadata": {},
   "outputs": [],
   "source": [
    "def plot_roc(name, labels, predictions, **kwargs):\n",
    "    fp, tp, _ = roc_curve(labels, predictions)\n",
    "    plt.plot(100*fp, 100*tp, label=name, linewidth=2, **kwargs)\n",
    "    plt.xlabel('False positives [%]')\n",
    "    plt.ylabel('True positives [%]')\n",
    "   \n"
   ]
  },
  {
   "cell_type": "code",
   "execution_count": 288,
   "metadata": {},
   "outputs": [
    {
     "data": {
      "text/plain": [
       "<matplotlib.legend.Legend at 0x1df9ed76080>"
      ]
     },
     "execution_count": 288,
     "metadata": {},
     "output_type": "execute_result"
    },
    {
     "data": {
      "image/png": "[encoded data removed]",
      "text/plain": [
       "<Figure size 432x288 with 1 Axes>"
      ]
     },
     "metadata": {
      "needs_background": "light"
     },
     "output_type": "display_data"
    }
   ],
   "source": [
    "from sklearn.metrics import roc_curve\n",
    "\n",
    "plot_roc(\"AUC score of Test Data\", test_labels, test_predictions, linestyle='--')\n",
    "plt.legend(loc='lower right')"
   ]
  },
  {
   "cell_type": "code",
   "execution_count": null,
   "metadata": {},
   "outputs": [],
   "source": []
  }
 ],
 "metadata": {
  "kernelspec": {
   "display_name": "venv",
   "language": "python",
   "name": "venv"
  },
  "language_info": {
   "codemirror_mode": {
    "name": "ipython",
    "version": 3
   },
   "file_extension": ".py",
   "mimetype": "text/x-python",
   "name": "python",
   "nbconvert_exporter": "python",
   "pygments_lexer": "ipython3",
   "version": "3.6.10"
  }
 },
 "nbformat": 4,
 "nbformat_minor": 2
}
